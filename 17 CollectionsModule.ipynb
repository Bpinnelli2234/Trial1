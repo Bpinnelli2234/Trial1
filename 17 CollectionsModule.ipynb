{
 "cells": [
  {
   "cell_type": "markdown",
   "metadata": {},
   "source": [
    "# Collections module\n",
    "## counter\n",
    "Prints how many time the item appears"
   ]
  },
  {
   "cell_type": "code",
   "execution_count": 33,
   "metadata": {},
   "outputs": [],
   "source": [
    "from collections import Counter"
   ]
  },
  {
   "cell_type": "markdown",
   "metadata": {},
   "source": [
    "## counter with string analyse"
   ]
  },
  {
   "cell_type": "code",
   "execution_count": 46,
   "metadata": {},
   "outputs": [],
   "source": [
    "p = '''Python  is a general-purpose programming language in a similar vein to other programming languages \n",
    "that you might have heard of such as C++, JavaScript or Microsoft\\'s C# and Oracle\\'s Java . \n",
    "It has been around for srini  some considerable time having been originally conceived back in the 1980s by \n",
    "Guido van Rossum at Centrum Wiskunde & Informatica (CWI) in the Netherlands in in . \n",
    "The language is named after srini one of Guido’s favourite programs “Monty Pythons Flying Circus”, a classic \n",
    "and somewhat anarchic British comedy srini sketch show originally running from 1969 to 1974 \n",
    "(but which has been rerun on various stations ever since) and with srini several film spin offs . \n",
    "You will even find various references to this show in the documentation available with srini Python .'''"
   ]
  },
  {
   "cell_type": "code",
   "execution_count": 47,
   "metadata": {},
   "outputs": [
    {
     "data": {
      "text/plain": [
       "\"Python  is a general-purpose programming language in a similar vein to other programming languages \\nthat you might have heard of such as C++, JavaScript or Microsoft's C# and Oracle's Java . \\nIt has been around for srini  some considerable time having been originally conceived back in the 1980s by \\nGuido van Rossum at Centrum Wiskunde & Informatica (CWI) in the Netherlands in in . \\nThe language is named after srini one of Guido’s favourite programs “Monty Pythons Flying Circus”, a classic \\nand somewhat anarchic British comedy srini sketch show originally running from 1969 to 1974 \\n(but which has been rerun on various stations ever since) and with srini several film spin offs . \\nYou will even find various references to this show in the documentation available with srini Python .\""
      ]
     },
     "execution_count": 47,
     "metadata": {},
     "output_type": "execute_result"
    }
   ],
   "source": [
    "p"
   ]
  },
  {
   "cell_type": "code",
   "execution_count": 49,
   "metadata": {},
   "outputs": [
    {
     "data": {
      "text/plain": [
       "Counter({'in': 6,\n",
       "         'srini': 5,\n",
       "         '.': 4,\n",
       "         'a': 3,\n",
       "         'to': 3,\n",
       "         'and': 3,\n",
       "         'been': 3,\n",
       "         'the': 3,\n",
       "         'Python': 2,\n",
       "         'is': 2,\n",
       "         'programming': 2,\n",
       "         'language': 2,\n",
       "         'of': 2,\n",
       "         'has': 2,\n",
       "         'originally': 2,\n",
       "         'show': 2,\n",
       "         'various': 2,\n",
       "         'with': 2,\n",
       "         'general-purpose': 1,\n",
       "         'similar': 1,\n",
       "         'vein': 1,\n",
       "         'other': 1,\n",
       "         'languages': 1,\n",
       "         'that': 1,\n",
       "         'you': 1,\n",
       "         'might': 1,\n",
       "         'have': 1,\n",
       "         'heard': 1,\n",
       "         'such': 1,\n",
       "         'as': 1,\n",
       "         'C++,': 1,\n",
       "         'JavaScript': 1,\n",
       "         'or': 1,\n",
       "         \"Microsoft's\": 1,\n",
       "         'C#': 1,\n",
       "         \"Oracle's\": 1,\n",
       "         'Java': 1,\n",
       "         'It': 1,\n",
       "         'around': 1,\n",
       "         'for': 1,\n",
       "         'some': 1,\n",
       "         'considerable': 1,\n",
       "         'time': 1,\n",
       "         'having': 1,\n",
       "         'conceived': 1,\n",
       "         'back': 1,\n",
       "         '1980s': 1,\n",
       "         'by': 1,\n",
       "         'Guido': 1,\n",
       "         'van': 1,\n",
       "         'Rossum': 1,\n",
       "         'at': 1,\n",
       "         'Centrum': 1,\n",
       "         'Wiskunde': 1,\n",
       "         '&': 1,\n",
       "         'Informatica': 1,\n",
       "         '(CWI)': 1,\n",
       "         'Netherlands': 1,\n",
       "         'The': 1,\n",
       "         'named': 1,\n",
       "         'after': 1,\n",
       "         'one': 1,\n",
       "         'Guido’s': 1,\n",
       "         'favourite': 1,\n",
       "         'programs': 1,\n",
       "         '“Monty': 1,\n",
       "         'Pythons': 1,\n",
       "         'Flying': 1,\n",
       "         'Circus”,': 1,\n",
       "         'classic': 1,\n",
       "         'somewhat': 1,\n",
       "         'anarchic': 1,\n",
       "         'British': 1,\n",
       "         'comedy': 1,\n",
       "         'sketch': 1,\n",
       "         'running': 1,\n",
       "         'from': 1,\n",
       "         '1969': 1,\n",
       "         '1974': 1,\n",
       "         '(but': 1,\n",
       "         'which': 1,\n",
       "         'rerun': 1,\n",
       "         'on': 1,\n",
       "         'stations': 1,\n",
       "         'ever': 1,\n",
       "         'since)': 1,\n",
       "         'several': 1,\n",
       "         'film': 1,\n",
       "         'spin': 1,\n",
       "         'offs': 1,\n",
       "         'You': 1,\n",
       "         'will': 1,\n",
       "         'even': 1,\n",
       "         'find': 1,\n",
       "         'references': 1,\n",
       "         'this': 1,\n",
       "         'documentation': 1,\n",
       "         'available': 1})"
      ]
     },
     "execution_count": 49,
     "metadata": {},
     "output_type": "execute_result"
    }
   ],
   "source": [
    "Counter(p.split())"
   ]
  },
  {
   "cell_type": "markdown",
   "metadata": {},
   "source": [
    "## counter with most_common\n",
    "return list"
   ]
  },
  {
   "cell_type": "code",
   "execution_count": 52,
   "metadata": {},
   "outputs": [],
   "source": [
    "most_common_word = Counter(p.split()).most_common(50)"
   ]
  },
  {
   "cell_type": "code",
   "execution_count": 53,
   "metadata": {},
   "outputs": [
    {
     "data": {
      "text/plain": [
       "('in', 6)"
      ]
     },
     "execution_count": 53,
     "metadata": {},
     "output_type": "execute_result"
    }
   ],
   "source": [
    "most_common_word[0]"
   ]
  },
  {
   "cell_type": "markdown",
   "metadata": {},
   "source": [
    "## collections defaultdict\n",
    "If I want add new key in dict by default, that helps to:<br>\n",
    "avoid keyError <br>\n",
    "add value by defult"
   ]
  },
  {
   "cell_type": "code",
   "execution_count": 54,
   "metadata": {},
   "outputs": [],
   "source": [
    "from collections import defaultdict"
   ]
  },
  {
   "cell_type": "code",
   "execution_count": 55,
   "metadata": {},
   "outputs": [],
   "source": [
    "dic = {'name': 'Ali', 'age': 33}"
   ]
  },
  {
   "cell_type": "code",
   "execution_count": 57,
   "metadata": {},
   "outputs": [],
   "source": [
    "# add value by type\n",
    "dic = defaultdict(str)\n",
    "dic['name']= 'Ali'\n",
    "dic['age']= 33"
   ]
  },
  {
   "cell_type": "code",
   "execution_count": 60,
   "metadata": {},
   "outputs": [
    {
     "data": {
      "text/plain": [
       "''"
      ]
     },
     "execution_count": 60,
     "metadata": {},
     "output_type": "execute_result"
    }
   ],
   "source": [
    "dic['gender']"
   ]
  },
  {
   "cell_type": "code",
   "execution_count": 67,
   "metadata": {},
   "outputs": [],
   "source": [
    "# add value by lambda\n",
    "dic = defaultdict(lambda :'NA')\n",
    "dic['name']= 'Ali'\n",
    "dic['age']= 33"
   ]
  },
  {
   "cell_type": "code",
   "execution_count": 66,
   "metadata": {},
   "outputs": [
    {
     "data": {
      "text/plain": [
       "'NA'"
      ]
     },
     "execution_count": 66,
     "metadata": {},
     "output_type": "execute_result"
    }
   ],
   "source": [
    "dic['geder']"
   ]
  },
  {
   "cell_type": "code",
   "execution_count": 68,
   "metadata": {},
   "outputs": [],
   "source": [
    "# add value by function\n",
    "def default_fun():\n",
    "    return 'NA'\n",
    "\n",
    "dic = defaultdict(default_fun)\n",
    "dic['name']= 'Ali'\n",
    "dic['age']= 33"
   ]
  },
  {
   "cell_type": "code",
   "execution_count": 69,
   "metadata": {},
   "outputs": [
    {
     "data": {
      "text/plain": [
       "'NA'"
      ]
     },
     "execution_count": 69,
     "metadata": {},
     "output_type": "execute_result"
    }
   ],
   "source": [
    "dic['gender']"
   ]
  },
  {
   "cell_type": "markdown",
   "metadata": {},
   "source": [
    "## namedtuples\n",
    "assign meaning to each position in a tuple and allow for more readable,"
   ]
  },
  {
   "cell_type": "code",
   "execution_count": 70,
   "metadata": {},
   "outputs": [],
   "source": [
    "from collections import namedtuple"
   ]
  },
  {
   "cell_type": "code",
   "execution_count": 74,
   "metadata": {},
   "outputs": [],
   "source": [
    "my_tuple = namedtuple('Staff', 'name age department salary company')"
   ]
  },
  {
   "cell_type": "code",
   "execution_count": 77,
   "metadata": {},
   "outputs": [],
   "source": [
    "staff = my_tuple('Arwa', 22, 'IT', 1000, 'CIBC')"
   ]
  },
  {
   "cell_type": "code",
   "execution_count": 78,
   "metadata": {},
   "outputs": [
    {
     "data": {
      "text/plain": [
       "Staff(name='Arwa', age=22, department='IT', salary=1000, company='CIBC')"
      ]
     },
     "execution_count": 78,
     "metadata": {},
     "output_type": "execute_result"
    }
   ],
   "source": [
    "staff"
   ]
  },
  {
   "cell_type": "code",
   "execution_count": 79,
   "metadata": {},
   "outputs": [
    {
     "data": {
      "text/plain": [
       "'Arwa'"
      ]
     },
     "execution_count": 79,
     "metadata": {},
     "output_type": "execute_result"
    }
   ],
   "source": [
    "staff.name"
   ]
  },
  {
   "cell_type": "code",
   "execution_count": 82,
   "metadata": {},
   "outputs": [
    {
     "data": {
      "text/plain": [
       "'Arwa'"
      ]
     },
     "execution_count": 82,
     "metadata": {},
     "output_type": "execute_result"
    }
   ],
   "source": [
    "staff[0]"
   ]
  },
  {
   "cell_type": "code",
   "execution_count": 83,
   "metadata": {},
   "outputs": [],
   "source": [
    "Point = namedtuple('Point', ['x', 'y'])"
   ]
  },
  {
   "cell_type": "code",
   "execution_count": 86,
   "metadata": {},
   "outputs": [],
   "source": [
    "p = Point(161, 232)"
   ]
  },
  {
   "cell_type": "code",
   "execution_count": 87,
   "metadata": {},
   "outputs": [
    {
     "data": {
      "text/plain": [
       "393"
      ]
     },
     "execution_count": 87,
     "metadata": {},
     "output_type": "execute_result"
    }
   ],
   "source": [
    "p.x + p.y"
   ]
  },
  {
   "cell_type": "code",
   "execution_count": 92,
   "metadata": {},
   "outputs": [],
   "source": [
    "# unpack like a regular tuple\n",
    "# or can Point(x=11, y=22)\n",
    "x, y = p"
   ]
  },
  {
   "cell_type": "code",
   "execution_count": 93,
   "metadata": {},
   "outputs": [
    {
     "data": {
      "text/plain": [
       "(161, 232)"
      ]
     },
     "execution_count": 93,
     "metadata": {},
     "output_type": "execute_result"
    }
   ],
   "source": [
    "x, y"
   ]
  }
 ],
 "metadata": {
  "kernelspec": {
   "display_name": "Python 3 (ipykernel)",
   "language": "python",
   "name": "python3"
  },
  "language_info": {
   "codemirror_mode": {
    "name": "ipython",
    "version": 3
   },
   "file_extension": ".py",
   "mimetype": "text/x-python",
   "name": "python",
   "nbconvert_exporter": "python",
   "pygments_lexer": "ipython3",
   "version": "3.12.1"
  }
 },
 "nbformat": 4,
 "nbformat_minor": 4
}
