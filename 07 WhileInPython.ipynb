{
 "cells": [
  {
   "cell_type": "markdown",
   "metadata": {
    "id": "ZvsfY8kHyv_g"
   },
   "source": [
    "# while\n",
    "## what is while loop\n",
    "Used to loop any value as long as the condition is true <br>\n",
    "The condition continues the loop until becomes false <br>\n",
    "It is like `if a statement` needs indentation or a tab inside the body loop"
   ]
  },
  {
   "cell_type": "code",
   "execution_count": 1,
   "metadata": {
    "colab": {
     "base_uri": "https://localhost:8080/"
    },
    "executionInfo": {
     "elapsed": 5,
     "status": "ok",
     "timestamp": 1626564597860,
     "user": {
      "displayName": "احمد الغامدي",
      "photoUrl": "",
      "userId": "15414614545289853046"
     },
     "user_tz": -180
    },
    "id": "e4j9Hcrnyv_i",
    "outputId": "5ede8e1a-f652-4a4c-9e71-eb18555c6659"
   },
   "outputs": [
    {
     "name": "stdout",
     "output_type": "stream",
     "text": [
      "Number is: 5\n",
      "Number is: 4\n",
      "Number is: 3\n",
      "Number is: 2\n",
      "Number is: 1\n",
      "Number is: 0\n"
     ]
    }
   ],
   "source": [
    "num = 5\n",
    "\n",
    "while (num >= 0):\n",
    "    print(f'Number is: {num}')\n",
    "    num -= 1"
   ]
  },
  {
   "cell_type": "code",
   "execution_count": 2,
   "metadata": {
    "id": "5WHzenJQyv_j",
    "outputId": "1c927714-c0fb-426d-bcb4-7d295d902700"
   },
   "outputs": [
    {
     "name": "stdout",
     "output_type": "stream",
     "text": [
      "Sum is: 15\n"
     ]
    }
   ],
   "source": [
    "sum = 0\n",
    "n = 5\n",
    "i = 0\n",
    "\n",
    "while (i <= n):\n",
    "    sum+=i\n",
    "    i+=1\n",
    "\n",
    "print('Sum is:',sum)"
   ]
  },
  {
   "cell_type": "markdown",
   "metadata": {
    "id": "XaTxV8HPyv_j"
   },
   "source": [
    "## break in while loop\n",
    "If you want stop the loop, use if condition with break"
   ]
  },
  {
   "cell_type": "code",
   "execution_count": 3,
   "metadata": {
    "id": "vL0laAXUyv_k",
    "outputId": "87a875fa-753f-4ed0-a5d6-268686a97d3b"
   },
   "outputs": [
    {
     "name": "stdout",
     "output_type": "stream",
     "text": [
      "number of i = 3\n",
      "Sum is: 6\n"
     ]
    }
   ],
   "source": [
    "sum = 0\n",
    "n = 10\n",
    "i = 0\n",
    "\n",
    "while (i <= n):\n",
    "    sum+=i\n",
    "        \n",
    "    if (i == 3):\n",
    "        print(f\"number of i = {i}\")\n",
    "        break\n",
    "        \n",
    "    i+=1\n",
    "\n",
    "print('Sum is:',sum)"
   ]
  },
  {
   "cell_type": "code",
   "execution_count": 4,
   "metadata": {
    "id": "pYM95dusyv_k",
    "outputId": "389761e1-3e53-46a3-83c8-fd4b09ae5eeb"
   },
   "outputs": [
    {
     "name": "stdout",
     "output_type": "stream",
     "text": [
      "Degree 95\n",
      "Degree 90\n",
      "Degree 85\n",
      "Degree 80\n",
      "Degree 75\n",
      "Degree 70\n",
      "Degree 65\n",
      "Degree 60\n"
     ]
    }
   ],
   "source": [
    "degree = 95\n",
    "\n",
    "while(degree >= 5):\n",
    "    \n",
    "    if (degree == 55):\n",
    "        break\n",
    "    \n",
    "    print(f'Degree {degree}')\n",
    "    degree -= 5"
   ]
  },
  {
   "cell_type": "markdown",
   "metadata": {
    "id": "b9a3xe00yv_k"
   },
   "source": [
    "## continue \n",
    "Stop the loop in some condition, then continue run"
   ]
  },
  {
   "cell_type": "code",
   "execution_count": 5,
   "metadata": {
    "id": "JRXCzo7fyv_l",
    "outputId": "9a66556c-b577-4854-9c74-c5979beabcbf"
   },
   "outputs": [
    {
     "name": "stdout",
     "output_type": "stream",
     "text": [
      "Degree 95\n",
      "Degree 85\n",
      "Degree 80\n",
      "Degree 75\n",
      "Degree 65\n",
      "Degree 60\n"
     ]
    }
   ],
   "source": [
    "degree = 100\n",
    "\n",
    "while(degree > 60):\n",
    "    degree -= 5\n",
    "    \n",
    "    if (degree == 90 or degree == 70):\n",
    "        continue\n",
    "    \n",
    "    print(f'Degree {degree}')"
   ]
  },
  {
   "cell_type": "code",
   "execution_count": 6,
   "metadata": {
    "id": "RPFlh9eJyv_l",
    "outputId": "6e9fb883-a9cd-4a02-9851-dab655e1870d"
   },
   "outputs": [
    {
     "name": "stdout",
     "output_type": "stream",
     "text": [
      "Number -2\n",
      "Number -3\n",
      "Number -4\n",
      "Number -6\n",
      "Number -7\n",
      "Number -8\n",
      "Number -9\n"
     ]
    }
   ],
   "source": [
    "x = -1\n",
    "\n",
    "while(x >= -10): \n",
    "    x -= 1    \n",
    "    if(x == -5 or x== -10 or x== -11):\n",
    "        continue\n",
    "        \n",
    "    print(f'Number {x}')    "
   ]
  },
  {
   "cell_type": "markdown",
   "metadata": {
    "id": "6EeQVecOyv_m"
   },
   "source": [
    "## else"
   ]
  },
  {
   "cell_type": "code",
   "execution_count": 7,
   "metadata": {
    "id": "x2uy4ggKyv_m",
    "outputId": "f4a4d948-5fea-4983-8941-be7de93c18f3"
   },
   "outputs": [
    {
     "name": "stdout",
     "output_type": "stream",
     "text": [
      "value out of boundary\n"
     ]
    }
   ],
   "source": [
    "z = -11\n",
    "\n",
    "while(z >= -10): \n",
    "    print(f'Number {z}')\n",
    "    z -= 1    \n",
    "\n",
    "else:\n",
    "    print(\"value out of boundary\")"
   ]
  },
  {
   "cell_type": "markdown",
   "metadata": {
    "id": "2uQCRKBAyv_m"
   },
   "source": [
    "## Example"
   ]
  },
  {
   "cell_type": "code",
   "execution_count": 8,
   "metadata": {
    "id": "GjVbH6BMyv_m",
    "outputId": "af7fc5b8-22cc-4537-89ba-26a169089cfd"
   },
   "outputs": [
    {
     "name": "stdout",
     "output_type": "stream",
     "text": [
      "What is the spelling of Hello\n",
      "\n",
      "What is the spelling of Hello\n",
      "HELLO\n",
      "What is the spelling of Hello\n",
      "Hello\n",
      "Yes, the world is Hello\n"
     ]
    }
   ],
   "source": [
    "word = 'Hello'\n",
    "spell = ''\n",
    "\n",
    "while (spell != word):\n",
    "    print(f\"What is the spelling of {word}\")\n",
    "    spell = input()\n",
    "\n",
    "print('Yes, the world is ' + spell)"
   ]
  },
  {
   "cell_type": "code",
   "execution_count": 9,
   "metadata": {
    "id": "-aCEPJnMyv_n",
    "outputId": "bd4725cf-fdc3-4296-ab62-5c479f938af8"
   },
   "outputs": [
    {
     "name": "stdout",
     "output_type": "stream",
     "text": [
      "The popped item is: 6\n",
      "The popped item is: 5\n",
      "The popped item is: 4\n"
     ]
    }
   ],
   "source": [
    "lst = [1,2,3,'A',4,5,6]\n",
    "\n",
    "while lst:\n",
    "    popped = lst.pop(-1)\n",
    "    \n",
    "    if popped == 'A':\n",
    "        break\n",
    "    print(f'The popped item is: {popped}')       "
   ]
  },
  {
   "cell_type": "code",
   "execution_count": 10,
   "metadata": {
    "id": "Xk9Czwpayv_n",
    "outputId": "5ecd8aa1-0ef5-4279-8221-67153d061751"
   },
   "outputs": [
    {
     "name": "stdout",
     "output_type": "stream",
     "text": [
      "The poped item is: 6\n",
      "The poped item is: 5\n",
      "The poped item is: 4\n",
      "The poped item is: 3\n",
      "The poped item is: 2\n",
      "The poped item is: 1\n"
     ]
    }
   ],
   "source": [
    "lst = [1,2,3,'A','B',4,5,6]\n",
    "\n",
    "while lst:\n",
    "    popped = lst.pop(-1)\n",
    "    \n",
    "    if (popped == 'A' or popped == 'B'):\n",
    "        continue\n",
    "    print(f'The poped item is: {popped}')  "
   ]
  },
  {
   "cell_type": "code",
   "execution_count": 11,
   "metadata": {
    "id": "1KO12HuCyv_n",
    "outputId": "cecd4898-3a70-457a-d51d-fdf26b5c1328"
   },
   "outputs": [
    {
     "name": "stdout",
     "output_type": "stream",
     "text": [
      "0\n",
      "1\n",
      "2\n",
      "3\n",
      "4\n",
      "5\n",
      "6\n",
      "7\n",
      "8\n",
      "9\n",
      "[0, 1, 2, 3, 4, 5, 6, 7, 8, 9]\n"
     ]
    }
   ],
   "source": [
    "num = 0\n",
    "num_lst = []\n",
    "while num < 10:\n",
    "    \n",
    "    num_lst.append(num)\n",
    "    print(num)\n",
    "    num += 1\n",
    "    \n",
    "print(num_lst)"
   ]
  }
 ],
 "metadata": {
  "colab": {
   "name": "WhileInPython.ipynb",
   "provenance": []
  },
  "kernelspec": {
   "display_name": "Python 3 (ipykernel)",
   "language": "python",
   "name": "python3"
  },
  "language_info": {
   "codemirror_mode": {
    "name": "ipython",
    "version": 3
   },
   "file_extension": ".py",
   "mimetype": "text/x-python",
   "name": "python",
   "nbconvert_exporter": "python",
   "pygments_lexer": "ipython3",
   "version": "3.11.4"
  }
 },
 "nbformat": 4,
 "nbformat_minor": 1
}
