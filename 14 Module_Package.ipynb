{
 "cells": [
  {
   "cell_type": "markdown",
   "metadata": {},
   "source": [
    "# Modules and Packages \n",
    "## PIP & PiPy\n",
    "#### pip: \n",
    "It is a command tool, used in the command line to install pacakges or anything you want to do <br>\n",
    "> **pip -h**: to help <br>\n",
    "> **pip -V**: where is pip and what is version <br>\n",
    "> **pip install Package**: to install package <br>\n",
    "> **pip3 uninstall package**: delete package, AND MORE TO DO WITH PIP"
   ]
  },
  {
   "cell_type": "markdown",
   "metadata": {},
   "source": [
    "## Search and install packages \n",
    "#### `search`: python package for NameOfPackage\n",
    "#### `install`: pip3 install NameOfPackage \n",
    "##### example \n",
    "##### pip install currencyconverter"
   ]
  },
  {
   "cell_type": "code",
   "execution_count": 1,
   "metadata": {},
   "outputs": [
    {
     "ename": "ModuleNotFoundError",
     "evalue": "No module named 'currency_converter'",
     "output_type": "error",
     "traceback": [
      "\u001b[0;31m---------------------------------------------------------------------------\u001b[0m",
      "\u001b[0;31mModuleNotFoundError\u001b[0m                       Traceback (most recent call last)",
      "Cell \u001b[0;32mIn[1], line 2\u001b[0m\n\u001b[1;32m      1\u001b[0m \u001b[38;5;66;03m## class CurrencyConverter\u001b[39;00m\n\u001b[0;32m----> 2\u001b[0m \u001b[38;5;28;01mfrom\u001b[39;00m \u001b[38;5;21;01mcurrency_converter\u001b[39;00m \u001b[38;5;28;01mimport\u001b[39;00m CurrencyConverter\n",
      "\u001b[0;31mModuleNotFoundError\u001b[0m: No module named 'currency_converter'"
     ]
    }
   ],
   "source": [
    "## class CurrencyConverter\n",
    "from currency_converter import CurrencyConverter"
   ]
  },
  {
   "cell_type": "code",
   "execution_count": 3,
   "metadata": {},
   "outputs": [
    {
     "name": "stdout",
     "output_type": "stream",
     "text": [
      "Collecting currencyconverter\n",
      "  Obtaining dependency information for currencyconverter from https://files.pythonhosted.org/packages/05/44/e0371e76f646fbf9f278ce6e51848ee8cb7655ef4f517549725a8cfd43ba/CurrencyConverter-0.17.13-py3-none-any.whl.metadata\n",
      "  Downloading CurrencyConverter-0.17.13-py3-none-any.whl.metadata (6.4 kB)\n",
      "Downloading CurrencyConverter-0.17.13-py3-none-any.whl (582 kB)\n",
      "\u001b[2K   \u001b[90m━━━━━━━━━━━━━━━━━━━━━━━━━━━━━━━━━━━━━━━━\u001b[0m \u001b[32m582.3/582.3 kB\u001b[0m \u001b[31m1.5 MB/s\u001b[0m eta \u001b[36m0:00:00\u001b[0ma \u001b[36m0:00:01\u001b[0mm\n",
      "\u001b[?25hInstalling collected packages: currencyconverter\n",
      "Successfully installed currencyconverter-0.17.13\n",
      "Note: you may need to restart the kernel to use updated packages.\n"
     ]
    }
   ],
   "source": [
    "pip install currencyconverter"
   ]
  },
  {
   "cell_type": "code",
   "execution_count": 4,
   "metadata": {},
   "outputs": [],
   "source": [
    "from currency_converter import CurrencyConverter\n",
    "## create object class\n",
    "c = CurrencyConverter()"
   ]
  },
  {
   "cell_type": "code",
   "execution_count": 5,
   "metadata": {},
   "outputs": [
    {
     "data": {
      "text/plain": [
       "214.46575799999997"
      ]
     },
     "execution_count": 5,
     "metadata": {},
     "output_type": "execute_result"
    }
   ],
   "source": [
    "c.convert(200.98, 'EUR', 'USD')"
   ]
  },
  {
   "cell_type": "markdown",
   "metadata": {},
   "source": [
    "## Modules\n",
    "#### Create module .py with multi files that make code easy to maintenance\n",
    "#### how to run function from another flie \n",
    "<br>\n",
    "file1: program.py <br>\n",
    "\n",
    "```ipython\n",
    "from module import function \n",
    "function() \n",
    "``` \n",
    "\n",
    "file2: module.py\n",
    "\n",
    "```ipython\n",
    "def function():\n",
    "    print(\"This is a module.py file\") \n",
    "```\n",
    "\n",
    " when excute program.py, the output will be:\n",
    "<br>\n",
    "\n",
    "```ipython\n",
    "'This is a module.py file'\n",
    "```"
   ]
  },
  {
   "cell_type": "markdown",
   "metadata": {},
   "source": [
    "## Create packages\n",
    "##### If you want to create a big program, the multi-files will help you to organize your app. \n",
    "##### This will make it easy to recognize and develop.\n",
    "##### Use maps to organize what you want to do\n",
    "\n",
    "|_ _ _ _ _ program.py<br>\n",
    "|<br>\n",
    "|_ _ _ _ _ module.py<br>\n",
    "|<br>\n",
    "|_ _ _ _ _ MainPackage<br>\n",
    "&emsp;&emsp;&emsp;&emsp;&emsp;|<br>\n",
    "&emsp;&emsp;&emsp;&emsp;&emsp;|_ _ _ _ __ inti__.py<br>\n",
    "&emsp;&emsp;&emsp;&emsp;&emsp;|<br>\n",
    "&emsp;&emsp;&emsp;&emsp;&emsp;|_ _ _ _ _ main_script.py<br>\n",
    "&emsp;&emsp;&emsp;&emsp;&emsp;|&emsp;&emsp;&emsp;&emsp;&emsp;&emsp;&emsp;main_function()             \n",
    "&emsp;&emsp;&emsp;&emsp;&emsp;|_ _ _ _ _ SubPackage<br>\n",
    "&emsp;&emsp;&emsp;&emsp;&emsp;&emsp;&emsp;&emsp;&emsp;&emsp;|<br>\n",
    "                             &emsp;&emsp;&emsp;&emsp;&emsp;&emsp;&emsp;&emsp;&emsp;&emsp;|_ _ _ _ __ inti__.py<br>\n",
    "                             &emsp;&emsp;&emsp;&emsp;&emsp;&emsp;&emsp;&emsp;&emsp;&emsp;|<br>\n",
    "                             &emsp;&emsp;&emsp;&emsp;&emsp;&emsp;&emsp;&emsp;&emsp;&emsp;|_ _ _ _ _ sub_script.py<br>\n",
    "&emsp;&emsp;&emsp;&emsp;&emsp;&emsp;&emsp;&emsp;&emsp;&emsp;|_ _ _ _ _ _ _sub_function()  \n",
    "\n",
    "##### The __ inti __ .py: to tell compiler this is module "
   ]
  },
  {
   "cell_type": "markdown",
   "metadata": {},
   "source": [
    "## import packages \n",
    "#### from NameOfFolder import NameOfFilePy\n",
    "NameOfFilePy.CallFunction\n",
    "\n",
    "#### If the file inside subPackage:\n",
    "#### from NameOfFolder.NameOfSubFolder import NameOfFilePy\n",
    " NameOfFilePy.CallFunction"
   ]
  },
  {
   "cell_type": "markdown",
   "metadata": {},
   "source": [
    "## __ name__  and __ main __\n",
    "\n",
    "#### When import file  from another module, the all function in file will be execute\n",
    "#### To avoid that you can use __ name__\n",
    "#### Used to check whether the current script is being run on its own or being imported somewhere else\n",
    "\n",
    "```ipython\n",
    "if __ name__ == '__ main__':\n",
    "    main()\n",
    "```"
   ]
  }
 ],
 "metadata": {
  "kernelspec": {
   "display_name": "Python 3 (ipykernel)",
   "language": "python",
   "name": "python3"
  },
  "language_info": {
   "codemirror_mode": {
    "name": "ipython",
    "version": 3
   },
   "file_extension": ".py",
   "mimetype": "text/x-python",
   "name": "python",
   "nbconvert_exporter": "python",
   "pygments_lexer": "ipython3",
   "version": "3.11.4"
  }
 },
 "nbformat": 4,
 "nbformat_minor": 4
}
