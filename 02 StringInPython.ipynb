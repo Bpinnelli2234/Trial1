{
 "cells": [
  {
   "cell_type": "markdown",
   "metadata": {},
   "source": [
    "# String On Python"
   ]
  },
  {
   "cell_type": "markdown",
   "metadata": {},
   "source": [
    "### Single/Double quotation and Print\n",
    "The quotations used to define string values like: `\"Hllo\"` <br>\n",
    "Maybe use a single quotation `''` or double quotation `\"\"`<br>\n",
    "Some messages have a shortcut like: I'm, so the message is placed in between `\"\"` to avoid error <br>\n",
    "Finally, function `print` used to display the message"
   ]
  },
  {
   "cell_type": "code",
   "execution_count": 1,
   "metadata": {},
   "outputs": [
    {
     "data": {
      "text/plain": [
       "'Hello World!'"
      ]
     },
     "execution_count": 1,
     "metadata": {},
     "output_type": "execute_result"
    }
   ],
   "source": [
    "\"Hello World!\""
   ]
  },
  {
   "cell_type": "code",
   "execution_count": 2,
   "metadata": {},
   "outputs": [
    {
     "data": {
      "text/plain": [
       "'Hello World'"
      ]
     },
     "execution_count": 2,
     "metadata": {},
     "output_type": "execute_result"
    }
   ],
   "source": [
    "'Hello World'"
   ]
  },
  {
   "cell_type": "code",
   "execution_count": 3,
   "metadata": {},
   "outputs": [],
   "source": [
    "#variable has a string value\n",
    "message = \"Hello Flexcourses, I'm Arwa\""
   ]
  },
  {
   "cell_type": "code",
   "execution_count": 4,
   "metadata": {},
   "outputs": [
    {
     "name": "stdout",
     "output_type": "stream",
     "text": [
      "Hello Flexcourses, I'm Arwa\n"
     ]
    }
   ],
   "source": [
    "#disply message variable\n",
    "print(message)"
   ]
  },
  {
   "cell_type": "code",
   "execution_count": 5,
   "metadata": {},
   "outputs": [
    {
     "name": "stdout",
     "output_type": "stream",
     "text": [
      "Everything will be alright\n"
     ]
    }
   ],
   "source": [
    "print(\"Everything will be alright\")"
   ]
  },
  {
   "cell_type": "markdown",
   "metadata": {},
   "source": [
    "### Escaping\n",
    "It is content backslash and letter like: <br>\n",
    "`\\n` for new line <br>\n",
    "`\\t` tap"
   ]
  },
  {
   "cell_type": "code",
   "execution_count": 6,
   "metadata": {},
   "outputs": [
    {
     "name": "stdout",
     "output_type": "stream",
     "text": [
      "Hello Python course\n",
      "I'm Arwa,\t my age 22\n"
     ]
    }
   ],
   "source": [
    "print(\"Hello Python course\\nI'm Arwa,\\t my age 22\")"
   ]
  },
  {
   "cell_type": "markdown",
   "metadata": {},
   "source": [
    "### Function len\n",
    "Used to count string "
   ]
  },
  {
   "cell_type": "code",
   "execution_count": 7,
   "metadata": {},
   "outputs": [],
   "source": [
    "platform = \"Flexcourses\""
   ]
  },
  {
   "cell_type": "code",
   "execution_count": 8,
   "metadata": {},
   "outputs": [
    {
     "data": {
      "text/plain": [
       "11"
      ]
     },
     "execution_count": 8,
     "metadata": {},
     "output_type": "execute_result"
    }
   ],
   "source": [
    "len(platform)"
   ]
  },
  {
   "cell_type": "markdown",
   "metadata": {},
   "source": [
    "### Indexing\n",
    "Each character has an index starting from 0 to the last character. <br>\n",
    "From left to right use [0],[1],.. to last character,<br>\n",
    "From right to left use [-1],[-2],.. to first character."
   ]
  },
  {
   "cell_type": "code",
   "execution_count": 9,
   "metadata": {},
   "outputs": [
    {
     "name": "stdout",
     "output_type": "stream",
     "text": [
      "F\n",
      "l\n",
      "s\n"
     ]
    }
   ],
   "source": [
    "#from left to right\n",
    "print(platform[0])\n",
    "print(platform[1])\n",
    "print(platform[10])"
   ]
  },
  {
   "cell_type": "code",
   "execution_count": 10,
   "metadata": {},
   "outputs": [
    {
     "name": "stdout",
     "output_type": "stream",
     "text": [
      "s\n",
      "e\n",
      "F\n"
     ]
    }
   ],
   "source": [
    "#from right to left\n",
    "print(platform[-1])\n",
    "print(platform[-2])\n",
    "print(platform[-11])"
   ]
  },
  {
   "cell_type": "markdown",
   "metadata": {},
   "source": [
    "### Strings Slicing\n",
    "Determine where the beginning of string and where the end [Start:End:Step]<br>\n",
    "Also can be used the steps"
   ]
  },
  {
   "cell_type": "code",
   "execution_count": 11,
   "metadata": {},
   "outputs": [],
   "source": [
    "number =\"0123456789\""
   ]
  },
  {
   "cell_type": "code",
   "execution_count": 12,
   "metadata": {},
   "outputs": [
    {
     "name": "stdout",
     "output_type": "stream",
     "text": [
      "123456789\n",
      "012345678\n",
      "2345\n"
     ]
    }
   ],
   "source": [
    "#Slicing start from index 1 to end of string\n",
    "print(number[1:])\n",
    "#Slicing start from first index to brefore last\n",
    "print(number[:-1])\n",
    "#Slicing start from index two to index six, \n",
    "#stop at index six, thit mean the values show from 2 to 5\n",
    "print(number[2:6])"
   ]
  },
  {
   "cell_type": "code",
   "execution_count": 13,
   "metadata": {},
   "outputs": [
    {
     "name": "stdout",
     "output_type": "stream",
     "text": [
      "02468\n",
      "1357\n",
      "97531\n",
      "8642\n"
     ]
    }
   ],
   "source": [
    "#step determine how many jumps\n",
    "print(number[::2])\n",
    "print(number[1:9:2])\n",
    "##from right to left\n",
    "print(number[::-2])\n",
    "print(number[-2:-10:-2])"
   ]
  },
  {
   "cell_type": "markdown",
   "metadata": {},
   "source": [
    "### Strings concatenation\n",
    "Now, let's see how we can edit and work with string <br>\n",
    "You can use it as you need"
   ]
  },
  {
   "cell_type": "code",
   "execution_count": 14,
   "metadata": {},
   "outputs": [],
   "source": [
    "#If I have variable and want to change assigned an item\n",
    "#this can't be change by its index\n",
    "#exampl\n",
    "name = 'Arwa'"
   ]
  },
  {
   "cell_type": "code",
   "execution_count": 15,
   "metadata": {},
   "outputs": [
    {
     "ename": "TypeError",
     "evalue": "'str' object does not support item assignment",
     "output_type": "error",
     "traceback": [
      "\u001b[0;31m---------------------------------------------------------------------------\u001b[0m",
      "\u001b[0;31mTypeError\u001b[0m                                 Traceback (most recent call last)",
      "Cell \u001b[0;32mIn[15], line 2\u001b[0m\n\u001b[1;32m      1\u001b[0m \u001b[38;5;66;03m#this error \u001b[39;00m\n\u001b[0;32m----> 2\u001b[0m name[\u001b[38;5;241m0\u001b[39m]\u001b[38;5;241m=\u001b[39m\u001b[38;5;124m'\u001b[39m\u001b[38;5;124mA\u001b[39m\u001b[38;5;124m'\u001b[39m\n",
      "\u001b[0;31mTypeError\u001b[0m: 'str' object does not support item assignment"
     ]
    }
   ],
   "source": [
    "#this error \n",
    "name[0]='A'"
   ]
  },
  {
   "cell_type": "code",
   "execution_count": 16,
   "metadata": {},
   "outputs": [],
   "source": [
    "#How solve proble? it can be use 'add+' operation\n",
    "my_name = 'Arwa'"
   ]
  },
  {
   "cell_type": "code",
   "execution_count": 17,
   "metadata": {},
   "outputs": [],
   "source": [
    "#I want change Arwa to Marwa, drop first index\n",
    "last_name = my_name[1:]"
   ]
  },
  {
   "cell_type": "code",
   "execution_count": 18,
   "metadata": {},
   "outputs": [],
   "source": [
    "#add new string to old\n",
    "new_name = 'Ma'+ last_name"
   ]
  },
  {
   "cell_type": "code",
   "execution_count": 19,
   "metadata": {},
   "outputs": [
    {
     "data": {
      "text/plain": [
       "'Marwa'"
      ]
     },
     "execution_count": 19,
     "metadata": {},
     "output_type": "execute_result"
    }
   ],
   "source": [
    "new_name"
   ]
  },
  {
   "cell_type": "code",
   "execution_count": 20,
   "metadata": {},
   "outputs": [],
   "source": [
    "#Also can add string to another string\n",
    "family_name = 'AlSharif'"
   ]
  },
  {
   "cell_type": "code",
   "execution_count": 21,
   "metadata": {},
   "outputs": [],
   "source": [
    "full_name = new_name +\" \"+family_name"
   ]
  },
  {
   "cell_type": "code",
   "execution_count": 22,
   "metadata": {},
   "outputs": [
    {
     "data": {
      "text/plain": [
       "'Marwa AlSharif'"
      ]
     },
     "execution_count": 22,
     "metadata": {},
     "output_type": "execute_result"
    }
   ],
   "source": [
    "full_name"
   ]
  },
  {
   "cell_type": "code",
   "execution_count": 23,
   "metadata": {},
   "outputs": [],
   "source": [
    "#If the value is numeric but I put between quotations\n",
    "#it will be a string\n",
    "x = \"5\"+\"10\""
   ]
  },
  {
   "cell_type": "code",
   "execution_count": 24,
   "metadata": {},
   "outputs": [
    {
     "data": {
      "text/plain": [
       "'510'"
      ]
     },
     "execution_count": 24,
     "metadata": {},
     "output_type": "execute_result"
    }
   ],
   "source": [
    "x"
   ]
  },
  {
   "cell_type": "code",
   "execution_count": 25,
   "metadata": {},
   "outputs": [],
   "source": [
    "#If want to duplicate string you can use power\n",
    "my_feel = \"Flexcourses is the best! \\n\""
   ]
  },
  {
   "cell_type": "code",
   "execution_count": 26,
   "metadata": {},
   "outputs": [],
   "source": [
    "duplicate = my_feel *5"
   ]
  },
  {
   "cell_type": "code",
   "execution_count": 27,
   "metadata": {},
   "outputs": [
    {
     "name": "stdout",
     "output_type": "stream",
     "text": [
      "Flexcourses is the best! \n",
      "Flexcourses is the best! \n",
      "Flexcourses is the best! \n",
      "Flexcourses is the best! \n",
      "Flexcourses is the best! \n",
      "\n"
     ]
    }
   ],
   "source": [
    "print(duplicate)"
   ]
  },
  {
   "cell_type": "markdown",
   "metadata": {},
   "source": [
    "## Method\n",
    "### Populars method `upper` + `lower`\n",
    "Method is a function, which used to do something"
   ]
  },
  {
   "cell_type": "code",
   "execution_count": 28,
   "metadata": {},
   "outputs": [],
   "source": [
    "text = \"What's next!\""
   ]
  },
  {
   "cell_type": "code",
   "execution_count": 29,
   "metadata": {},
   "outputs": [],
   "source": [
    "#If use variable with dot(.), the program will show functions\n",
    "#use Tab to shows\n",
    "upper_text = text.upper()"
   ]
  },
  {
   "cell_type": "code",
   "execution_count": 30,
   "metadata": {},
   "outputs": [],
   "source": [
    "#to show 'is this function'?\n",
    "upper_text_function = text.upper"
   ]
  },
  {
   "cell_type": "code",
   "execution_count": 31,
   "metadata": {},
   "outputs": [
    {
     "name": "stdout",
     "output_type": "stream",
     "text": [
      "<built-in method upper of str object at 0x106619130>\n",
      "WHAT'S NEXT!\n"
     ]
    }
   ],
   "source": [
    "print(upper_text_function)\n",
    "print(upper_text)"
   ]
  },
  {
   "cell_type": "markdown",
   "metadata": {},
   "source": [
    "### `Split`\n",
    "Used to cut string into list by space or pass to special character"
   ]
  },
  {
   "cell_type": "code",
   "execution_count": 32,
   "metadata": {},
   "outputs": [],
   "source": [
    "string = \"Eman takes a tech course\""
   ]
  },
  {
   "cell_type": "code",
   "execution_count": 33,
   "metadata": {},
   "outputs": [
    {
     "name": "stdout",
     "output_type": "stream",
     "text": [
      "split by space: \n",
      " ['Eman', 'takes', 'a', 'tech', 'course']\n",
      "\n",
      "split by a: \n",
      " ['Em', 'n t', 'kes ', ' tech course']\n"
     ]
    }
   ],
   "source": [
    "#split by space \n",
    "print(\"split by space: \\n\", string.split())\n",
    "#split by a\n",
    "split = string.split('a')\n",
    "print(\"\\nsplit by a: \\n\", split)"
   ]
  },
  {
   "cell_type": "markdown",
   "metadata": {},
   "source": [
    "### `format`\n",
    "Instead of adding an operation, you can use `format`. <br>\n",
    "It must reserve a place \"placeholder\" in a string using `{}` before call format."
   ]
  },
  {
   "cell_type": "code",
   "execution_count": 34,
   "metadata": {},
   "outputs": [
    {
     "name": "stdout",
     "output_type": "stream",
     "text": [
      "My name is: Arwa \n",
      "I'm a 22\n"
     ]
    }
   ],
   "source": [
    "#First way: default assigned \n",
    "print(\"My name is: {} \\nI'm a {}\".format(\"Arwa\",\"22\"))"
   ]
  },
  {
   "cell_type": "code",
   "execution_count": 35,
   "metadata": {},
   "outputs": [
    {
     "name": "stdout",
     "output_type": "stream",
     "text": [
      "I'm Arwa.. \n",
      "I study the python course, introduced by flexcourses\n"
     ]
    }
   ],
   "source": [
    "#secand way: assigned the index\n",
    "print(\"I'm {1}.. \\nI study the {2} course, introduced by {4}\"\n",
    "      .format(\"Amal\",\"Arwa\",\"python\",\"web development\",\"flexcourses\"))"
   ]
  },
  {
   "cell_type": "markdown",
   "metadata": {},
   "source": [
    "### Keyworld with format function\n",
    "Instead of using index number, we can use keyword index, which makes it easy to recognize the string"
   ]
  },
  {
   "cell_type": "code",
   "execution_count": 36,
   "metadata": {},
   "outputs": [
    {
     "name": "stdout",
     "output_type": "stream",
     "text": [
      "My name is: Arwa Hamed \n",
      "I'm a 22 year\n"
     ]
    }
   ],
   "source": [
    "print(\"My name is: {frist_name} {last_name} \\nI'm a {age} year\"\n",
    "      .format(frist_name=\"Arwa\",last_name =\"Hamed\",age=\"22\"))"
   ]
  },
  {
   "cell_type": "markdown",
   "metadata": {},
   "source": [
    "### format with float\n",
    "If I have a long number after a point, it can be a shortcut using the format function <br>\n",
    " The format must have a keyword\n",
    " Use a keyword in the placeholder, then put a value `often be 1`, if increase the value <br>\n",
    " it will reserve a place before number\", the last number to show how many numbers <br>\n",
    " Don't forget to use f"
   ]
  },
  {
   "cell_type": "code",
   "execution_count": 37,
   "metadata": {},
   "outputs": [],
   "source": [
    "float_number = 201.2345567789901"
   ]
  },
  {
   "cell_type": "code",
   "execution_count": 38,
   "metadata": {},
   "outputs": [
    {
     "name": "stdout",
     "output_type": "stream",
     "text": [
      "Number: 201.2345567789901\n",
      "Number: 201.23456\n"
     ]
    }
   ],
   "source": [
    "#Show exactly number\n",
    "print(\"Number: {fn:1}\".format(fn=float_number))\n",
    "#How many number show after point\n",
    "print(\"Number: {fn:1.5f}\".format(fn=float_number))"
   ]
  },
  {
   "cell_type": "markdown",
   "metadata": {},
   "source": [
    "### f-string \n",
    "Like format but easy to use, just add `f` before quotations<br>\n",
    "and call variable at `{}`. "
   ]
  },
  {
   "cell_type": "code",
   "execution_count": 39,
   "metadata": {},
   "outputs": [],
   "source": [
    "name = \"Arwa\"\n",
    "field = \"SC\"\n",
    "age = 22"
   ]
  },
  {
   "cell_type": "code",
   "execution_count": 40,
   "metadata": {},
   "outputs": [
    {
     "name": "stdout",
     "output_type": "stream",
     "text": [
      "My name is Arwa, I 22 years old, studied a SC.\n"
     ]
    }
   ],
   "source": [
    "print(f\"My name is {name}, I {age} years old, studied a {field}.\")"
   ]
  }
 ],
 "metadata": {
  "kernelspec": {
   "display_name": "Python 3 (ipykernel)",
   "language": "python",
   "name": "python3"
  },
  "language_info": {
   "codemirror_mode": {
    "name": "ipython",
    "version": 3
   },
   "file_extension": ".py",
   "mimetype": "text/x-python",
   "name": "python",
   "nbconvert_exporter": "python",
   "pygments_lexer": "ipython3",
   "version": "3.11.4"
  }
 },
 "nbformat": 4,
 "nbformat_minor": 4
}
