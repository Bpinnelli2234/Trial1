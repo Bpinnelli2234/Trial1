{
 "cells": [
  {
   "cell_type": "markdown",
   "metadata": {},
   "source": [
    "# Introduction to python\n",
    "Python is a programming language that is becoming more popular for Data Science and DevOps community. It's flexible, easy to understand and support many libraries (modules). \n",
    "\n",
    "This notebook provides an introduction to python using 3.x version. It will help you to learn: \n",
    "- What is the data type of python\n",
    "- How to use operation \n",
    "- How to create the variable\n",
    "\n",
    "Before we start, we use Ipython (Interactive Python), which is tied with Jupiter. Ipython provides many tools that help us in the coding like: `?` and `help()` helps to access to docstring \"the reference of the object\"."
   ]
  },
  {
   "cell_type": "code",
   "execution_count": 1,
   "metadata": {},
   "outputs": [
    {
     "name": "stdout",
     "output_type": "stream",
     "text": [
      "Help on built-in function len in module builtins:\n",
      "\n",
      "len(obj, /)\n",
      "    Return the number of items in a container.\n",
      "\n"
     ]
    }
   ],
   "source": [
    "help(len)"
   ]
  },
  {
   "cell_type": "code",
   "execution_count": 2,
   "metadata": {},
   "outputs": [],
   "source": [
    "len?"
   ]
  },
  {
   "cell_type": "markdown",
   "metadata": {},
   "source": [
    "`??` helps to access to the source code. <br>\n",
    "`Tab key` for autocomplete. There're many tools [Check the IPython Documentaion](https://ipython.readthedocs.io/en/stable/interactive/tutorial.html)\n",
    "\n",
    "\n",
    "Now, let's start to coding!\n",
    "## Basics of Python\n",
    "### Frist notebook, Hello! python\n",
    "Python provides the built-in function `print` to disply statement."
   ]
  },
  {
   "cell_type": "code",
   "execution_count": 3,
   "metadata": {},
   "outputs": [
    {
     "name": "stdout",
     "output_type": "stream",
     "text": [
      "Hello World!\n"
     ]
    }
   ],
   "source": [
    "print(\"Hello World!\")"
   ]
  },
  {
   "cell_type": "markdown",
   "metadata": {},
   "source": [
    "### Comments\n",
    "You can add some comments to the code that help anyone to understand what the code does. \n",
    "\n",
    "Use the `#`character to add  comments."
   ]
  },
  {
   "cell_type": "markdown",
   "metadata": {},
   "source": [
    "## Data type\n",
    "All values and variables have a specific type.\n",
    "\n",
    "### Data types,Objects\n",
    "\n",
    "- Integers (int):              `1, 2, 400`\n",
    "- Floaring point (float):      `2.3, 5.1, 300.0` \n",
    "- Strings (str):              `'hello', \"Hi\", \"مرحبا\"` "
   ]
  },
  {
   "cell_type": "code",
   "execution_count": 4,
   "metadata": {},
   "outputs": [
    {
     "name": "stdout",
     "output_type": "stream",
     "text": [
      "1\n",
      "2.4\n",
      "Hello\n"
     ]
    }
   ],
   "source": [
    "# int type\n",
    "print(1)\n",
    "\n",
    "# float type\n",
    "print(2.4) \n",
    "\n",
    "# string type\n",
    "print(\"Hello\")"
   ]
  },
  {
   "cell_type": "markdown",
   "metadata": {},
   "source": [
    "### Data structures\n",
    "\n",
    "- Lists (list) ordered:               `[10, \"hello\", 4.3]`\n",
    "- Dictionaries (dict) ordered:      `{\"key\": \"value\", \"name\": \"Ahmad\"}`\n",
    "- Tuples (tup) immutable:             `(10, 20, \"hello\", 30.2)`\n",
    "- Sets (set) unordered:               `{\"a\", \"b\", \"c\"}`\n",
    "- Booleans (bool):                    `True, False`"
   ]
  },
  {
   "cell_type": "code",
   "execution_count": 5,
   "metadata": {},
   "outputs": [
    {
     "name": "stdout",
     "output_type": "stream",
     "text": [
      "[10, 'hello', 4.3]\n",
      "{'key': 'value', 'name': 'Ahmad'}\n",
      "(10, 20, 'hello', 30.2)\n",
      "{'c', 'b', 'a'}\n",
      "True\n"
     ]
    }
   ],
   "source": [
    "# list type\n",
    "print([10, \"hello\", 4.3])\n",
    "\n",
    "# dict type\n",
    "print({\"key\": \"value\", \"name\": \"Ahmad\"})\n",
    "\n",
    "# tuple type\n",
    "print((10, 20, \"hello\", 30.2))\n",
    "\n",
    "# set type\n",
    "print({\"a\", \"b\", \"c\"})\n",
    "\n",
    "# boolean type\n",
    "print(True)"
   ]
  },
  {
   "cell_type": "markdown",
   "metadata": {},
   "source": [
    "### None \n",
    "Python has `None` type represent null or nothing"
   ]
  },
  {
   "cell_type": "code",
   "execution_count": 6,
   "metadata": {},
   "outputs": [],
   "source": [
    "job = None"
   ]
  },
  {
   "cell_type": "code",
   "execution_count": 7,
   "metadata": {},
   "outputs": [
    {
     "name": "stdout",
     "output_type": "stream",
     "text": [
      "None\n"
     ]
    }
   ],
   "source": [
    "print(job)"
   ]
  },
  {
   "cell_type": "markdown",
   "metadata": {},
   "source": [
    "Use `type()` bulit-in function to return type of object or variable"
   ]
  },
  {
   "cell_type": "code",
   "execution_count": 8,
   "metadata": {},
   "outputs": [
    {
     "name": "stdout",
     "output_type": "stream",
     "text": [
      "<class 'int'>\n"
     ]
    }
   ],
   "source": [
    "print(type(1))"
   ]
  },
  {
   "cell_type": "markdown",
   "metadata": {},
   "source": [
    "## Arithmetic Operators\n",
    "Used to apply mathematical operations such as addition, subtraction, multiplication, division, and more.\n",
    "\n",
    "|Operators | Description                         |\n",
    "|:----------|:-----------------------------------|\n",
    "| +         | Add the values from each other     |\n",
    "| -         | Subtract the values from each other|\n",
    "| *         | Multiply the values                |\n",
    "| /         | Divide the values                  |\n",
    "| //        | Integer division                   |\n",
    "| %         | Modulus, return remainder from division|\n",
    "| **        | Power of or Exponent               |\n"
   ]
  },
  {
   "cell_type": "code",
   "execution_count": 9,
   "metadata": {},
   "outputs": [
    {
     "name": "stdout",
     "output_type": "stream",
     "text": [
      "4\n"
     ]
    }
   ],
   "source": [
    "# Summation\n",
    "print(2+2)"
   ]
  },
  {
   "cell_type": "code",
   "execution_count": 10,
   "metadata": {},
   "outputs": [
    {
     "name": "stdout",
     "output_type": "stream",
     "text": [
      "2\n"
     ]
    }
   ],
   "source": [
    "# Subtract \n",
    "print(3-1)"
   ]
  },
  {
   "cell_type": "code",
   "execution_count": 11,
   "metadata": {},
   "outputs": [
    {
     "name": "stdout",
     "output_type": "stream",
     "text": [
      "4\n"
     ]
    }
   ],
   "source": [
    "# Multiply\n",
    "print(2*2)"
   ]
  },
  {
   "cell_type": "code",
   "execution_count": 12,
   "metadata": {},
   "outputs": [
    {
     "name": "stdout",
     "output_type": "stream",
     "text": [
      "2.0\n"
     ]
    }
   ],
   "source": [
    "# Divide\n",
    "print(4/2)"
   ]
  },
  {
   "cell_type": "code",
   "execution_count": 13,
   "metadata": {},
   "outputs": [
    {
     "name": "stdout",
     "output_type": "stream",
     "text": [
      "2\n"
     ]
    }
   ],
   "source": [
    "# Integer division\n",
    "print(4//2)"
   ]
  },
  {
   "cell_type": "code",
   "execution_count": 14,
   "metadata": {},
   "outputs": [
    {
     "name": "stdout",
     "output_type": "stream",
     "text": [
      "1\n"
     ]
    }
   ],
   "source": [
    "# Modulus\n",
    "print(5%2)"
   ]
  },
  {
   "cell_type": "code",
   "execution_count": 15,
   "metadata": {},
   "outputs": [
    {
     "name": "stdout",
     "output_type": "stream",
     "text": [
      "64\n"
     ]
    }
   ],
   "source": [
    "# Power of\n",
    "print(4**3)"
   ]
  },
  {
   "cell_type": "markdown",
   "metadata": {},
   "source": [
    "Python Operators follow the PEMDAS Rule. If you have a complex expression the Python will evaluate and order by precedence."
   ]
  },
  {
   "cell_type": "code",
   "execution_count": 16,
   "metadata": {},
   "outputs": [
    {
     "name": "stdout",
     "output_type": "stream",
     "text": [
      "29\n"
     ]
    }
   ],
   "source": [
    "# Ordered by default\n",
    "print(2+5*5+2)"
   ]
  },
  {
   "cell_type": "code",
   "execution_count": 17,
   "metadata": {},
   "outputs": [
    {
     "name": "stdout",
     "output_type": "stream",
     "text": [
      "49\n"
     ]
    }
   ],
   "source": [
    "# Change the order useing parentheses\n",
    "print((2+5)*(5+2))"
   ]
  },
  {
   "cell_type": "markdown",
   "metadata": {},
   "source": [
    "## Variable \n",
    "A way of storing values, which makes you do more processing. There're rules to declare a variable:\n",
    "+ Doesn't start with numbers: 1name \n",
    "+ Doesn't has a space like: \"my name\", it should be: \"my_name\"<br>\n",
    "+ Doesn't have any special characters: <,>,@<%,..etc.<br>\n",
    "+ It must be a specific and case-sensitive name."
   ]
  },
  {
   "cell_type": "code",
   "execution_count": 18,
   "metadata": {},
   "outputs": [],
   "source": [
    "# Assign string variable\n",
    "name = \"Arwa\""
   ]
  },
  {
   "cell_type": "code",
   "execution_count": 19,
   "metadata": {},
   "outputs": [],
   "source": [
    "# Assignet int variable \n",
    "age = 20"
   ]
  },
  {
   "cell_type": "code",
   "execution_count": 20,
   "metadata": {},
   "outputs": [
    {
     "name": "stdout",
     "output_type": "stream",
     "text": [
      "Arwa 20\n"
     ]
    }
   ],
   "source": [
    "print(name, age)"
   ]
  },
  {
   "cell_type": "code",
   "execution_count": 21,
   "metadata": {},
   "outputs": [
    {
     "name": "stdout",
     "output_type": "stream",
     "text": [
      "<class 'str'>\n",
      "<class 'int'>\n"
     ]
    }
   ],
   "source": [
    "# Detect type of variable\n",
    "print(type(name))\n",
    "print(type(age))"
   ]
  },
  {
   "cell_type": "markdown",
   "metadata": {},
   "source": [
    "Variable is reproducibility, that meansyou can copy and change the value"
   ]
  },
  {
   "cell_type": "code",
   "execution_count": 22,
   "metadata": {},
   "outputs": [
    {
     "name": "stdout",
     "output_type": "stream",
     "text": [
      "Arwa 21\n"
     ]
    }
   ],
   "source": [
    "age = 21\n",
    "print(name, age)"
   ]
  },
  {
   "cell_type": "code",
   "execution_count": 23,
   "metadata": {},
   "outputs": [
    {
     "name": "stdout",
     "output_type": "stream",
     "text": [
      "21\n"
     ]
    }
   ],
   "source": [
    "value = age \n",
    "print(value)"
   ]
  },
  {
   "cell_type": "markdown",
   "metadata": {},
   "source": [
    "It can be change the type of variable to another. For example from int to str"
   ]
  },
  {
   "cell_type": "code",
   "execution_count": 24,
   "metadata": {},
   "outputs": [
    {
     "name": "stdout",
     "output_type": "stream",
     "text": [
      "<class 'str'>\n"
     ]
    }
   ],
   "source": [
    "age = \"20\"\n",
    "#age= str(age)\n",
    "print(type(age))"
   ]
  },
  {
   "cell_type": "markdown",
   "metadata": {},
   "source": [
    "#### Best practices to declare variables:\n",
    "1. All variable it should be with lowecase like: `my_name and my_age`\n",
    "2. Sometime the global/constance variable it should be with capitalcase like `MAX_OVERFLOW and TOTAL`\n",
    "3. There are two styles to write variable:\n",
    "    - Sneke case: my_name and MY_NAME\n",
    "    - Camel case: myName and iPhone"
   ]
  },
  {
   "cell_type": "code",
   "execution_count": 25,
   "metadata": {},
   "outputs": [],
   "source": [
    "my_name = 'Arwa'\n",
    "myName = \"Arwa\""
   ]
  },
  {
   "cell_type": "markdown",
   "metadata": {},
   "source": [
    "## Input Keyword\n",
    "`input()` is a function that allows the user to enter a value. For example, your program asks users about their names and age."
   ]
  },
  {
   "cell_type": "code",
   "execution_count": 26,
   "metadata": {},
   "outputs": [
    {
     "name": "stdout",
     "output_type": "stream",
     "text": [
      "Arwa\n",
      "25\n"
     ]
    }
   ],
   "source": [
    "# Asks User his name \n",
    "name = input()\n",
    "\n",
    "# Asks User his age \n",
    "age = input()"
   ]
  },
  {
   "cell_type": "markdown",
   "metadata": {},
   "source": [
    "It takes a single optional argument, which is a message that displays on the output screen to ask a user to enter the input value"
   ]
  },
  {
   "cell_type": "code",
   "execution_count": 27,
   "metadata": {},
   "outputs": [
    {
     "name": "stdout",
     "output_type": "stream",
     "text": [
      "Enter your name:Arwa\n",
      "Enter your age:24\n"
     ]
    }
   ],
   "source": [
    "# Asks User his name \n",
    "name = input(\"Enter your name:\")\n",
    "\n",
    "# Asks User his age \n",
    "age = input(\"Enter your age:\")"
   ]
  }
 ],
 "metadata": {
  "kernelspec": {
   "display_name": "Python 3 (ipykernel)",
   "language": "python",
   "name": "python3"
  },
  "language_info": {
   "codemirror_mode": {
    "name": "ipython",
    "version": 3
   },
   "file_extension": ".py",
   "mimetype": "text/x-python",
   "name": "python",
   "nbconvert_exporter": "python",
   "pygments_lexer": "ipython3",
   "version": "3.11.4"
  }
 },
 "nbformat": 4,
 "nbformat_minor": 4
}
