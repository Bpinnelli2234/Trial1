{
 "cells": [
  {
   "cell_type": "markdown",
   "metadata": {},
   "source": [
    "# Functions\n",
    "It is a combination of logic and coding. There are rules for using a function:<br>\n",
    " + Use an understood name.<br>\n",
    " + Don't repeat it<br>\n",
    " + Use a different function to ease editing<br>\n",
    "\n",
    " \n",
    "# Clean Code\n",
    " Write the code smoothly and clearly. Use comment"
   ]
  },
  {
   "cell_type": "markdown",
   "metadata": {},
   "source": [
    "## Write first function\n",
    "Need to: <br>\n",
    " + `def` (definition function) <br>\n",
    " + `name of function()` (use snake way)<br>\n",
    " + :  (`block` contain the content)<br>\n",
    " Note: don't forget call function to run"
   ]
  },
  {
   "cell_type": "code",
   "execution_count": 1,
   "metadata": {},
   "outputs": [
    {
     "name": "stdout",
     "output_type": "stream",
     "text": [
      "My first function\n"
     ]
    }
   ],
   "source": [
    "def first_function():\n",
    "    print(\"My first function\")\n",
    "    \n",
    "first_function()"
   ]
  },
  {
   "cell_type": "code",
   "execution_count": 2,
   "metadata": {},
   "outputs": [
    {
     "name": "stdout",
     "output_type": "stream",
     "text": [
      "Add first number:3\n",
      "Add second number: 5\n",
      "The sum of  3  +  5 =  8\n"
     ]
    }
   ],
   "source": [
    "def sum_two_number():\n",
    "    \n",
    "    num_one = int(input('Add first number:'))\n",
    "    num_two = int(input('Add second number: '))\n",
    "    \n",
    "    sum = num_one + num_two\n",
    "    print('The sum of ',num_one, ' + ',num_two, '= ',sum)\n",
    "    \n",
    "sum_two_number()    "
   ]
  },
  {
   "cell_type": "markdown",
   "metadata": {},
   "source": [
    "## return\n",
    "It doesn't return the value but is used to save it<br>\n",
    "Any function after `return` will not work"
   ]
  },
  {
   "cell_type": "code",
   "execution_count": 3,
   "metadata": {},
   "outputs": [],
   "source": [
    "def first_return():\n",
    "    return 'My first return in function'"
   ]
  },
  {
   "cell_type": "code",
   "execution_count": 4,
   "metadata": {},
   "outputs": [
    {
     "data": {
      "text/plain": [
       "'My first return in function'"
      ]
     },
     "execution_count": 4,
     "metadata": {},
     "output_type": "execute_result"
    }
   ],
   "source": [
    "#the program will return as type not value\n",
    "first_return()"
   ]
  },
  {
   "cell_type": "code",
   "execution_count": 5,
   "metadata": {},
   "outputs": [],
   "source": [
    "# assign function to variabe\n",
    "my_return = first_return()"
   ]
  },
  {
   "cell_type": "code",
   "execution_count": 6,
   "metadata": {},
   "outputs": [
    {
     "name": "stdout",
     "output_type": "stream",
     "text": [
      "My first return in function\n"
     ]
    }
   ],
   "source": [
    "print(my_return)"
   ]
  },
  {
   "cell_type": "code",
   "execution_count": 7,
   "metadata": {},
   "outputs": [],
   "source": [
    "def message_after_return():\n",
    "    return 5 + 5\n",
    "    return 'Hello'"
   ]
  },
  {
   "cell_type": "code",
   "execution_count": 8,
   "metadata": {},
   "outputs": [
    {
     "name": "stdout",
     "output_type": "stream",
     "text": [
      "10\n"
     ]
    }
   ],
   "source": [
    "message = message_after_return()\n",
    "print(message)"
   ]
  },
  {
   "cell_type": "code",
   "execution_count": 9,
   "metadata": {},
   "outputs": [],
   "source": [
    "def sum_two_number():\n",
    "    \n",
    "    num_one = int(input('Add first number:'))\n",
    "    num_two = int(input('Add second number: '))\n",
    "    \n",
    "    sum = num_one + num_two\n",
    "    return (f'The sum of {num_one} + {num_two}= {sum}')"
   ]
  },
  {
   "cell_type": "code",
   "execution_count": 10,
   "metadata": {},
   "outputs": [
    {
     "name": "stdout",
     "output_type": "stream",
     "text": [
      "Add first number:3\n",
      "Add second number: 5\n",
      "The sum of 3 + 5= 8\n"
     ]
    }
   ],
   "source": [
    "summation = sum_two_number()\n",
    "print(summation)"
   ]
  },
  {
   "cell_type": "markdown",
   "metadata": {},
   "source": [
    "## Parameters\n",
    "Send data to the function. It is accept more then one argument"
   ]
  },
  {
   "cell_type": "code",
   "execution_count": 11,
   "metadata": {},
   "outputs": [],
   "source": [
    "name = 'Marwn'\n",
    "def list_name(name):\n",
    "    return name[:]"
   ]
  },
  {
   "cell_type": "code",
   "execution_count": 12,
   "metadata": {},
   "outputs": [],
   "source": [
    "my_list = list_name(name)"
   ]
  },
  {
   "cell_type": "code",
   "execution_count": 13,
   "metadata": {},
   "outputs": [
    {
     "name": "stdout",
     "output_type": "stream",
     "text": [
      "M\n"
     ]
    }
   ],
   "source": [
    "print(my_list[0])"
   ]
  },
  {
   "cell_type": "code",
   "execution_count": 14,
   "metadata": {},
   "outputs": [
    {
     "name": "stdout",
     "output_type": "stream",
     "text": [
      "Add first number:2\n",
      "Add second number: 6\n",
      "The sum= 8\n"
     ]
    }
   ],
   "source": [
    "num_one = int(input('Add first number:'))\n",
    "num_two = int(input('Add second number: '))\n",
    "\n",
    "def sum_two_number(num_one, num_two):\n",
    "    \n",
    "    return num_one + num_two\n",
    "\n",
    "add = sum_two_number(num_one, num_two)\n",
    "print(f'The sum= {add}')"
   ]
  },
  {
   "cell_type": "code",
   "execution_count": 15,
   "metadata": {},
   "outputs": [
    {
     "name": "stdout",
     "output_type": "stream",
     "text": [
      "Enter first list:123\n",
      "Enter second list: 456\n",
      "The concatenation list is: ['1', '2', '3', '4', '5', '6']\n",
      "Frist index: 1\n"
     ]
    }
   ],
   "source": [
    "first_list = list(input('Enter first list:'))\n",
    "second_list = list(input('Enter second list: '))\n",
    "\n",
    "def concatenation_list(first_list, second_list):\n",
    "    return first_list + second_list\n",
    "\n",
    "concat = concatenation_list(first_list, second_list)\n",
    "print(f'The concatenation list is: {concat}')\n",
    "print(\"Frist index:\",concat[0])"
   ]
  },
  {
   "cell_type": "markdown",
   "metadata": {},
   "source": [
    "## Optional Parameters\n",
    "Assign value to parameter, it can be changed <br> \n",
    "The require-parameter is must be on first argument"
   ]
  },
  {
   "cell_type": "code",
   "execution_count": 16,
   "metadata": {},
   "outputs": [],
   "source": [
    "def optional_parameter(age = 20):\n",
    "    print(\"Hello mohammed your age is \",age)"
   ]
  },
  {
   "cell_type": "code",
   "execution_count": 17,
   "metadata": {},
   "outputs": [
    {
     "name": "stdout",
     "output_type": "stream",
     "text": [
      "Hello mohammed your age is  30\n"
     ]
    }
   ],
   "source": [
    "optional_parameter(30)"
   ]
  },
  {
   "cell_type": "code",
   "execution_count": 18,
   "metadata": {},
   "outputs": [],
   "source": [
    "def require_optional_parameter(name, age = 20):\n",
    "    print(f\"Hello { name} your age is {age}\")"
   ]
  },
  {
   "cell_type": "code",
   "execution_count": 19,
   "metadata": {},
   "outputs": [
    {
     "name": "stdout",
     "output_type": "stream",
     "text": [
      "Hello Ali your age is 21\n"
     ]
    }
   ],
   "source": [
    "require_optional_parameter(\"Ali\", 21)"
   ]
  },
  {
   "cell_type": "markdown",
   "metadata": {},
   "source": [
    "# Example"
   ]
  },
  {
   "cell_type": "code",
   "execution_count": 20,
   "metadata": {},
   "outputs": [],
   "source": [
    "num_list = [308, 785, 109, 74.93, 150.32]\n",
    "word_list = ['Hello', 'Good', 'Feel', 'Thing']\n",
    "\n",
    "def found_object(one_object, whole_objects):\n",
    "    return one_object in whole_objects"
   ]
  },
  {
   "cell_type": "code",
   "execution_count": 21,
   "metadata": {},
   "outputs": [
    {
     "name": "stdout",
     "output_type": "stream",
     "text": [
      "The max number = 785\n",
      "The min number = 74.93\n",
      "The max word = Thing\n"
     ]
    }
   ],
   "source": [
    "max_obj = max(num_list)\n",
    "min_obj = min(num_list)\n",
    "\n",
    "if(found_object(max_obj, num_list)):\n",
    "    print(\"The max number =\",max_obj)\n",
    "    \n",
    "if(found_object(min_obj, num_list)):\n",
    "    print(\"The min number =\",min_obj)\n",
    "    \n",
    "\n",
    "\n",
    "str_obj = max(word_list)\n",
    "\n",
    "if(found_object(str_obj, word_list)):\n",
    "    print (\"The max word =\",str_obj)\n",
    "else:\n",
    "    print('Try again')"
   ]
  },
  {
   "cell_type": "markdown",
   "metadata": {},
   "source": [
    "## * args\n",
    "If you don't know how many data you will used in parametar use `* args`<br>\n",
    "It return a tuple value, and it can be any name "
   ]
  },
  {
   "cell_type": "code",
   "execution_count": 29,
   "metadata": {},
   "outputs": [
    {
     "name": "stdout",
     "output_type": "stream",
     "text": [
      "The mean is lower then 100, = 59.538\n"
     ]
    }
   ],
   "source": [
    "def mean(*args):\n",
    "    return sum(args)/ len(args)\n",
    "\n",
    "#avg = mean(229, 433.38, 134.99, 167, 123.32)\n",
    "avg = mean(29, 43.38, 34.99, 67, 123.32)\n",
    "\n",
    "if (avg >= 100):\n",
    "    print('The mean is greater then 100, = ',avg)\n",
    "elif (avg < 100):\n",
    "    print('The mean is lower then 100, =',avg)"
   ]
  },
  {
   "cell_type": "markdown",
   "metadata": {},
   "source": [
    "##  ** kwargs\n",
    "It return a dic value, and it can be any name "
   ]
  },
  {
   "cell_type": "code",
   "execution_count": 23,
   "metadata": {},
   "outputs": [],
   "source": [
    "def my_clints(**kwarg):\n",
    "    return kwarg"
   ]
  },
  {
   "cell_type": "code",
   "execution_count": 24,
   "metadata": {},
   "outputs": [
    {
     "data": {
      "text/plain": [
       "{'name': 'lulu', 'age': 18}"
      ]
     },
     "execution_count": 24,
     "metadata": {},
     "output_type": "execute_result"
    }
   ],
   "source": [
    "my_clints(name = 'lulu', age=18)"
   ]
  },
  {
   "cell_type": "code",
   "execution_count": 25,
   "metadata": {},
   "outputs": [],
   "source": [
    "def my_kwargs(**kwargs):\n",
    "    \n",
    "    for key, value in kwargs.items(): \n",
    "        \n",
    "        print(f'key= {key}, value= {value}')"
   ]
  },
  {
   "cell_type": "code",
   "execution_count": 26,
   "metadata": {},
   "outputs": [
    {
     "name": "stdout",
     "output_type": "stream",
     "text": [
      "key= name, value= Lulu\n",
      "key= age, value= 11\n"
     ]
    }
   ],
   "source": [
    "my_kwargs(name= 'Lulu', age= 11)"
   ]
  },
  {
   "cell_type": "code",
   "execution_count": 27,
   "metadata": {},
   "outputs": [],
   "source": [
    "def concat_word(**word):\n",
    "    \n",
    "    result =''\n",
    "    \n",
    "    for string in word.values():\n",
    "        result += string\n",
    "    print(result)"
   ]
  },
  {
   "cell_type": "code",
   "execution_count": 28,
   "metadata": {},
   "outputs": [
    {
     "name": "stdout",
     "output_type": "stream",
     "text": [
      "Hello python course!\n"
     ]
    }
   ],
   "source": [
    "concat_word(str1='Hello ', str2=\"python \", str3='course', str4='!')"
   ]
  }
 ],
 "metadata": {
  "kernelspec": {
   "display_name": "Python 3 (ipykernel)",
   "language": "python",
   "name": "python3"
  },
  "language_info": {
   "codemirror_mode": {
    "name": "ipython",
    "version": 3
   },
   "file_extension": ".py",
   "mimetype": "text/x-python",
   "name": "python",
   "nbconvert_exporter": "python",
   "pygments_lexer": "ipython3",
   "version": "3.11.4"
  }
 },
 "nbformat": 4,
 "nbformat_minor": 4
}
