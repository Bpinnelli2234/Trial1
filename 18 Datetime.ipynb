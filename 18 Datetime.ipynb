{
 "cells": [
  {
   "cell_type": "markdown",
   "metadata": {
    "id": "sclfqmLy7YTh"
   },
   "source": [
    "# Date & time\n",
    "It is module/package in python"
   ]
  },
  {
   "cell_type": "code",
   "execution_count": 8,
   "metadata": {
    "id": "9YnH7mMA7YTm"
   },
   "outputs": [],
   "source": [
    "import datetime"
   ]
  },
  {
   "cell_type": "code",
   "execution_count": 10,
   "metadata": {
    "id": "24ccib3Y7YTo"
   },
   "outputs": [],
   "source": [
    "now = datetime.datetime.now()"
   ]
  },
  {
   "cell_type": "code",
   "execution_count": 15,
   "metadata": {
    "id": "UHG8FZzP7YTp"
   },
   "outputs": [],
   "source": [
    "today = datetime.date.today()"
   ]
  },
  {
   "cell_type": "code",
   "execution_count": 14,
   "metadata": {
    "id": "fhPA0sWe7YTq",
    "outputId": "a54e4fee-540f-4dce-b8a4-81eacc40e62f"
   },
   "outputs": [
    {
     "name": "stdout",
     "output_type": "stream",
     "text": [
      "2024-01-03 18:49:40.661956\n",
      "2024-01-03\n"
     ]
    }
   ],
   "source": [
    "print(now)\n",
    "print(today)"
   ]
  },
  {
   "cell_type": "markdown",
   "metadata": {
    "id": "L57k3Y_e7YTt"
   },
   "source": [
    "## datetime -date"
   ]
  },
  {
   "cell_type": "code",
   "execution_count": 25,
   "metadata": {
    "id": "xcswOcQ17YTu"
   },
   "outputs": [],
   "source": [
    "from datetime import date"
   ]
  },
  {
   "cell_type": "code",
   "execution_count": 26,
   "metadata": {
    "id": "ul8-dWCi7YTw"
   },
   "outputs": [],
   "source": [
    "d = date(2024, 2, 1)"
   ]
  },
  {
   "cell_type": "code",
   "execution_count": 27,
   "metadata": {
    "id": "iWCXbV547YTy",
    "outputId": "c7261277-973e-4e0c-f42b-4615d72a02ba"
   },
   "outputs": [
    {
     "name": "stdout",
     "output_type": "stream",
     "text": [
      "2024-02-01\n"
     ]
    }
   ],
   "source": [
    "print(d)"
   ]
  },
  {
   "cell_type": "markdown",
   "metadata": {
    "id": "WnBApt8U7YT9"
   },
   "source": [
    "## datetime - timedelta"
   ]
  },
  {
   "cell_type": "code",
   "execution_count": 20,
   "metadata": {
    "id": "ifmQaprq7YT9"
   },
   "outputs": [],
   "source": [
    "from datetime import date, datetime, time, timedelta"
   ]
  },
  {
   "cell_type": "code",
   "execution_count": 22,
   "metadata": {
    "id": "S76M9W-H7YT-",
    "outputId": "f4cf831f-b37d-42b6-e244-38456485b50d"
   },
   "outputs": [
    {
     "name": "stdout",
     "output_type": "stream",
     "text": [
      "1096 days, 0:00:00\n"
     ]
    },
    {
     "data": {
      "text/plain": [
       "datetime.timedelta"
      ]
     },
     "execution_count": 22,
     "metadata": {},
     "output_type": "execute_result"
    }
   ],
   "source": [
    "d1 = date(2022, 10, 30)\n",
    "d2 = date(2025, 10, 30)\n",
    "\n",
    "deff_d = d1 - d2\n",
    "print(abs(deff_d))\n",
    "type(deff_d)"
   ]
  },
  {
   "cell_type": "markdown",
   "metadata": {
    "id": "vC2_Y03Y7YUE"
   },
   "source": [
    "## datetime - parsing"
   ]
  },
  {
   "cell_type": "code",
   "execution_count": 25,
   "metadata": {
    "executionInfo": {
     "elapsed": 363,
     "status": "ok",
     "timestamp": 1628580041948,
     "user": {
      "displayName": "احمد الغامدي",
      "photoUrl": "",
      "userId": "15414614545289853046"
     },
     "user_tz": -180
    },
    "id": "tMX-kYPG7vyW"
   },
   "outputs": [],
   "source": [
    "from datetime import datetime"
   ]
  },
  {
   "cell_type": "code",
   "execution_count": 24,
   "metadata": {
    "colab": {
     "base_uri": "https://localhost:8080/"
    },
    "executionInfo": {
     "elapsed": 7,
     "status": "ok",
     "timestamp": 1628580043358,
     "user": {
      "displayName": "احمد الغامدي",
      "photoUrl": "",
      "userId": "15414614545289853046"
     },
     "user_tz": -180
    },
    "id": "gZT_ZbRn7YUE",
    "outputId": "21571e18-d48f-4e79-b46a-fe4e67219199"
   },
   "outputs": [
    {
     "name": "stdout",
     "output_type": "stream",
     "text": [
      "2018 21 December\n",
      "2018-12-21 00:00:00\n",
      "2018/12/21\n"
     ]
    }
   ],
   "source": [
    "date_str = '2018 21 December'\n",
    "print(date_str)\n",
    "\n",
    "date_object = datetime.strptime(date_str, '%Y %d %B')\n",
    "print(date_object)\n",
    "print(date_object.strftime('%Y/%m/%d'))"
   ]
  }
 ],
 "metadata": {
  "colab": {
   "name": "18 Datetime.ipynb",
   "provenance": []
  },
  "kernelspec": {
   "display_name": "Python 3 (ipykernel)",
   "language": "python",
   "name": "python3"
  },
  "language_info": {
   "codemirror_mode": {
    "name": "ipython",
    "version": 3
   },
   "file_extension": ".py",
   "mimetype": "text/x-python",
   "name": "python",
   "nbconvert_exporter": "python",
   "pygments_lexer": "ipython3",
   "version": "3.12.1"
  }
 },
 "nbformat": 4,
 "nbformat_minor": 1
}
