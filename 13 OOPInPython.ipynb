{
 "cells": [
  {
   "cell_type": "markdown",
   "metadata": {
    "id": "x7PVkrhQZdrQ"
   },
   "source": [
    "# Object Oriented Programming OOP\n",
    "## Class\n",
    "It is a class, easy to deal with, and helps in a big app <br>\n",
    "It has one or more functions <br>\n",
    "Uses CamelCase to write the name 'best practice'<br>\n",
    "It has one or more attributes <br>\n",
    "The method `__ init __ ` is a constructor, the python looks at this first to run"
   ]
  },
  {
   "cell_type": "code",
   "execution_count": 1,
   "metadata": {
    "id": "qvQejxEgZdrf"
   },
   "outputs": [],
   "source": [
    "class MyFirstClass():\n",
    "    \n",
    "    #first methode\n",
    "    def __init__(self, prameter1):\n",
    "        self.attrib= prameter1\n",
    "    \n",
    "    #second methode\n",
    "    def my_method(self):\n",
    "        pass"
   ]
  },
  {
   "cell_type": "markdown",
   "metadata": {
    "id": "5Q3Jinu5Zdrj"
   },
   "source": [
    "## Class self attributes\n",
    "`self` represents the instance of the class.<br>\n",
    "It is access to the attributes and methods of the class and given the arguments."
   ]
  },
  {
   "cell_type": "code",
   "execution_count": 2,
   "metadata": {
    "id": "oCpdooCPZdrk"
   },
   "outputs": [],
   "source": [
    "class Staff():\n",
    "    \n",
    "    def __init__(self, name, age, department):\n",
    "        self.name = name\n",
    "        self.age = age\n",
    "        self.department = department"
   ]
  },
  {
   "cell_type": "code",
   "execution_count": 3,
   "metadata": {
    "id": "-Nzo9q3eZdrm"
   },
   "outputs": [],
   "source": [
    "#Use instance variable to print or run with class\n",
    "staff = Staff('Mona', 33, 'Dentist')"
   ]
  },
  {
   "cell_type": "code",
   "execution_count": 4,
   "metadata": {
    "id": "IG-QK5TaZdro",
    "outputId": "afc57a85-0b30-4e29-a2fa-d0cef62193a6"
   },
   "outputs": [
    {
     "name": "stdout",
     "output_type": "stream",
     "text": [
      "Mona\n",
      "33\n",
      "Dentist\n"
     ]
    }
   ],
   "source": [
    "#binds instance variable with attribute\n",
    "print(staff.name)\n",
    "print(staff.age)\n",
    "print(staff.department)"
   ]
  },
  {
   "cell_type": "markdown",
   "metadata": {
    "id": "EYw_3TXQZdrv"
   },
   "source": [
    "## Class attributes\n",
    "Variable inside the class used `self` to bind and access argument or variable in anywhere"
   ]
  },
  {
   "cell_type": "code",
   "execution_count": 5,
   "metadata": {
    "id": "igotn1pyZdrx"
   },
   "outputs": [],
   "source": [
    "class Staff():\n",
    "    bounce = 600 # local 'any funcs inside the class can access to the variable'\n",
    "    \n",
    "    def __init__(self, name, age, department, salary):\n",
    "        self.name = name\n",
    "        self.age = age\n",
    "        self.department = department\n",
    "        #self.bounce: access to any attribute in class\n",
    "        self.salary = salary + self.bounce"
   ]
  },
  {
   "cell_type": "code",
   "execution_count": 6,
   "metadata": {
    "id": "x2mPN7TzZdr1"
   },
   "outputs": [],
   "source": [
    "staff= Staff('Ruba', 26, 'Developer', 8400)"
   ]
  },
  {
   "cell_type": "code",
   "execution_count": 7,
   "metadata": {
    "id": "ONm22vTtZdr3",
    "outputId": "26214095-0f0d-4d83-f843-43d48b06c331"
   },
   "outputs": [
    {
     "name": "stdout",
     "output_type": "stream",
     "text": [
      "Ruba\n",
      "26\n",
      "Developer\n",
      "9000\n"
     ]
    }
   ],
   "source": [
    "print(staff.name)\n",
    "print(staff.age)\n",
    "print(staff.department)\n",
    "print(staff.salary)"
   ]
  },
  {
   "cell_type": "markdown",
   "metadata": {
    "id": "dM4VEoqSZdr6"
   },
   "source": [
    "## methods in class\n",
    "Used to do any particular operation you want. This makes your code clean and readable"
   ]
  },
  {
   "cell_type": "code",
   "execution_count": 8,
   "metadata": {
    "id": "FjnaTCoqZdr8"
   },
   "outputs": [],
   "source": [
    "class Staff():\n",
    "    bounce = 600\n",
    "    \n",
    "    def __init__(self, name, age, department, salary):\n",
    "        self.name = name\n",
    "        self.age = age\n",
    "        self.department = department\n",
    "        self.salary = salary \n",
    "        \n",
    "#    def full_salary(self):\n",
    "#        return self.salary + self.bounce\n",
    "    \n",
    "    def full_salary(self):\n",
    "        fs = self.salary + self.bounce\n",
    "        opration =[\n",
    "            ('bounce ', self.bounce),\n",
    "            ('salary ', self.salary),\n",
    "            ('full',fs)\n",
    "        ]\n",
    "        return (opration)"
   ]
  },
  {
   "cell_type": "code",
   "execution_count": 9,
   "metadata": {
    "id": "53ryoG7jZdr-"
   },
   "outputs": [],
   "source": [
    "staff= Staff('Ruba', 26, 'Developer', 8400)"
   ]
  },
  {
   "cell_type": "code",
   "execution_count": 10,
   "metadata": {
    "id": "s42TP3YaZdsA",
    "outputId": "52cc48c0-bfde-4be1-c72b-d2af8b108c40"
   },
   "outputs": [
    {
     "name": "stdout",
     "output_type": "stream",
     "text": [
      "Ruba\n",
      "26\n",
      "Developer\n",
      "[('bounce ', 600), ('salary ', 8400), ('full', 9000)]\n"
     ]
    }
   ],
   "source": [
    "print(staff.name)\n",
    "print(staff.age)\n",
    "print(staff.department)\n",
    "print(staff.full_salary())"
   ]
  },
  {
   "cell_type": "markdown",
   "metadata": {
    "id": "CBKs2QE3ZdsC"
   },
   "source": [
    "## methods parameters"
   ]
  },
  {
   "cell_type": "code",
   "execution_count": 11,
   "metadata": {
    "id": "hwCNs4MwZdsE"
   },
   "outputs": [],
   "source": [
    "class BloodDonor():\n",
    "    patient_blood = 'O-'\n",
    "    \n",
    "    def __init__(self,name, age):\n",
    "        self.name= name\n",
    "        self.age= age\n",
    "    \n",
    "    def negative(self): \n",
    "        blood_type = input().upper()\n",
    "        \n",
    "        if (self.patient_blood == blood_type):\n",
    "            print('The test is negative. You can donate')\n",
    "        else:\n",
    "            print('Sorry your test is positive. You cann\\'t donate')\n",
    "    \n",
    "    def somker(self, is_smoker= False):\n",
    "        if(is_smoker):\n",
    "            print(\"You cann\\'t donate\")\n",
    "        else:\n",
    "            print(\"You can donate\")   "
   ]
  },
  {
   "cell_type": "code",
   "execution_count": 12,
   "metadata": {
    "id": "-ayeDhg4ZdsH"
   },
   "outputs": [],
   "source": [
    "patient = BloodDonor('Ahmad', 27)"
   ]
  },
  {
   "cell_type": "code",
   "execution_count": 13,
   "metadata": {
    "id": "y2DZen3RZdsI",
    "outputId": "2ee69703-cad3-4cbe-8934-00512c4a5684"
   },
   "outputs": [
    {
     "name": "stdout",
     "output_type": "stream",
     "text": [
      "a-\n",
      "Sorry your test is positive. You cann't donate\n"
     ]
    }
   ],
   "source": [
    "patient.negative()"
   ]
  },
  {
   "cell_type": "code",
   "execution_count": 14,
   "metadata": {
    "id": "-p4tKNLpZdsK",
    "outputId": "a95c2081-f5ec-4498-a67f-40109743fd74"
   },
   "outputs": [
    {
     "name": "stdout",
     "output_type": "stream",
     "text": [
      "You cann't donate\n"
     ]
    }
   ],
   "source": [
    "patient.somker(True)"
   ]
  },
  {
   "cell_type": "code",
   "execution_count": 15,
   "metadata": {
    "id": "FTVS7FEKZdsM"
   },
   "outputs": [],
   "source": [
    "class Book():\n",
    "    vat = 0.15\n",
    "    discount = 0.1\n",
    "    \n",
    "    def __init__(self, name, auther, price):\n",
    "        self.name = name\n",
    "        self.auther = auther\n",
    "        self.price = price\n",
    "        \n",
    "    def vat_price(self):\n",
    "        return (self.price * self.vat) + self.price\n",
    "    \n",
    "    def casing(self, with_casing = True):\n",
    "        if (with_casing):\n",
    "            return (self.price * self.vat) + self.price\n",
    "        else:\n",
    "            return self.price - (self.price * self.discount)"
   ]
  },
  {
   "cell_type": "code",
   "execution_count": 16,
   "metadata": {
    "id": "d6H_5yMXZdsO"
   },
   "outputs": [],
   "source": [
    "book = Book('Romeo & Juliet', 'shakespeare', 276.89)"
   ]
  },
  {
   "cell_type": "code",
   "execution_count": 17,
   "metadata": {
    "id": "rbXVsn6NZdsO",
    "outputId": "7d97ed23-89fe-4029-e803-4ebfd5acdaed"
   },
   "outputs": [
    {
     "data": {
      "text/plain": [
       "'Romeo & Juliet'"
      ]
     },
     "execution_count": 17,
     "metadata": {},
     "output_type": "execute_result"
    }
   ],
   "source": [
    "book.name"
   ]
  },
  {
   "cell_type": "code",
   "execution_count": 18,
   "metadata": {
    "id": "V-SEMd5ZZdsP",
    "outputId": "add98a84-9269-4bb5-a1c0-e3d6209dfe93"
   },
   "outputs": [
    {
     "data": {
      "text/plain": [
       "'shakespeare'"
      ]
     },
     "execution_count": 18,
     "metadata": {},
     "output_type": "execute_result"
    }
   ],
   "source": [
    "book.auther"
   ]
  },
  {
   "cell_type": "code",
   "execution_count": 19,
   "metadata": {
    "id": "3zMGGKo1ZdsQ",
    "outputId": "3a914482-1683-40ff-e9db-35f868614e43"
   },
   "outputs": [
    {
     "data": {
      "text/plain": [
       "276.89"
      ]
     },
     "execution_count": 19,
     "metadata": {},
     "output_type": "execute_result"
    }
   ],
   "source": [
    "book.price"
   ]
  },
  {
   "cell_type": "code",
   "execution_count": 20,
   "metadata": {
    "id": "Ogd4t81RZdsR",
    "outputId": "a3db599b-130a-453e-f214-62769ff6c7d2"
   },
   "outputs": [
    {
     "data": {
      "text/plain": [
       "318.4235"
      ]
     },
     "execution_count": 20,
     "metadata": {},
     "output_type": "execute_result"
    }
   ],
   "source": [
    "book.vat_price()"
   ]
  },
  {
   "cell_type": "code",
   "execution_count": 21,
   "metadata": {
    "id": "4UXMjRuuZdsS",
    "outputId": "52d10b8e-f293-4ff1-c8d5-53be4c148c06"
   },
   "outputs": [
    {
     "data": {
      "text/plain": [
       "318.4235"
      ]
     },
     "execution_count": 21,
     "metadata": {},
     "output_type": "execute_result"
    }
   ],
   "source": [
    "book.casing()"
   ]
  },
  {
   "cell_type": "code",
   "execution_count": 22,
   "metadata": {
    "id": "seeRnJxxZdsT",
    "outputId": "06f53e71-9a18-4975-c3f9-6225e8eb9155"
   },
   "outputs": [
    {
     "data": {
      "text/plain": [
       "249.201"
      ]
     },
     "execution_count": 22,
     "metadata": {},
     "output_type": "execute_result"
    }
   ],
   "source": [
    "book.casing(False)"
   ]
  },
  {
   "cell_type": "markdown",
   "metadata": {
    "id": "ki7g-rEnZdsT"
   },
   "source": [
    "## Class Inheritance\n",
    "It is a class that inherits all the functions and properties from another class"
   ]
  },
  {
   "cell_type": "code",
   "execution_count": 23,
   "metadata": {
    "id": "qLi0WPcBZdsU"
   },
   "outputs": [],
   "source": [
    "class Inheritance():\n",
    "    x= 2\n",
    "    def __init__(self):\n",
    "        print('My first class inheritance')\n",
    "        \n",
    "    def greet(self):\n",
    "        print(\"Welcome to OOP\")"
   ]
  },
  {
   "cell_type": "code",
   "execution_count": 24,
   "metadata": {
    "id": "zGEVtmTXZdsV"
   },
   "outputs": [],
   "source": [
    "class Inherited(Inheritance):\n",
    "    \n",
    "    def __init__(self):\n",
    "        Inheritance.__init__(self)\n",
    "        print('Inherited class')\n",
    "        \n",
    "    # overwrite on greet()\n",
    "#    def greet(self):\n",
    "#        print('Welcome to inherited class')"
   ]
  },
  {
   "cell_type": "code",
   "execution_count": 25,
   "metadata": {
    "id": "-o6PLC6jZdsV",
    "outputId": "bf4446ec-7b7c-415a-c9a7-f6a1fe7491f2"
   },
   "outputs": [
    {
     "name": "stdout",
     "output_type": "stream",
     "text": [
      "My first class inheritance\n",
      "Inherited class\n"
     ]
    }
   ],
   "source": [
    "i =Inherited()"
   ]
  },
  {
   "cell_type": "code",
   "execution_count": 26,
   "metadata": {
    "id": "mY2vbdurZdsW",
    "outputId": "5ba8c0ac-a3a5-4bb2-b29b-a8c08dc03361"
   },
   "outputs": [
    {
     "data": {
      "text/plain": [
       "2"
      ]
     },
     "execution_count": 26,
     "metadata": {},
     "output_type": "execute_result"
    }
   ],
   "source": [
    "i.x"
   ]
  },
  {
   "cell_type": "code",
   "execution_count": 27,
   "metadata": {
    "id": "KCimyv8vZdsW",
    "outputId": "9f312ee8-d8ca-4edf-f9c2-efb3bc66a8d5"
   },
   "outputs": [
    {
     "name": "stdout",
     "output_type": "stream",
     "text": [
      "Welcome to OOP\n"
     ]
    }
   ],
   "source": [
    "i.greet()"
   ]
  },
  {
   "cell_type": "markdown",
   "metadata": {
    "id": "CSeBHrhJZdsX"
   },
   "source": [
    "### Exercises"
   ]
  },
  {
   "cell_type": "code",
   "execution_count": 28,
   "metadata": {
    "id": "Zd5Rg-RcZdsX"
   },
   "outputs": [],
   "source": [
    "class Product():\n",
    "    \n",
    "    vat = 0.15\n",
    "    buyable = 1998\n",
    "    \n",
    "    def __init__(self, product):\n",
    "        self.name = product[0]\n",
    "        self.price = product[1]\n",
    "        self.model = product[2]\n",
    "        \n",
    "    def sale_price(self):\n",
    "        return (self.price * self.vat) + self.price\n",
    "    \n",
    "    def is_buyable(self):\n",
    "        return self.model > self.buyable"
   ]
  },
  {
   "cell_type": "code",
   "execution_count": 29,
   "metadata": {
    "id": "P702UTmKZdsY"
   },
   "outputs": [],
   "source": [
    "class Laptop(Product):\n",
    "    \n",
    "    def __init__(self, laptop):\n",
    "        Product.__init__(self, laptop)\n",
    "        print(f'The product name {self.name}')"
   ]
  },
  {
   "cell_type": "code",
   "execution_count": 30,
   "metadata": {
    "id": "JxdgOjp-ZdsY"
   },
   "outputs": [],
   "source": [
    "laptop = ['HP', 3500, 2017]"
   ]
  },
  {
   "cell_type": "code",
   "execution_count": 31,
   "metadata": {
    "id": "5ktrKBQaZdsY",
    "outputId": "15de3f62-4785-4543-fd33-1a69fb5725dd"
   },
   "outputs": [
    {
     "name": "stdout",
     "output_type": "stream",
     "text": [
      "The product name HP\n"
     ]
    }
   ],
   "source": [
    "lp = Laptop(laptop)"
   ]
  },
  {
   "cell_type": "code",
   "execution_count": 32,
   "metadata": {
    "id": "PsOkorExZdsZ",
    "outputId": "723b8637-fa74-43a2-cdcf-11afd8a9ee4d"
   },
   "outputs": [
    {
     "data": {
      "text/plain": [
       "True"
      ]
     },
     "execution_count": 32,
     "metadata": {},
     "output_type": "execute_result"
    }
   ],
   "source": [
    "lp.is_buyable()"
   ]
  },
  {
   "cell_type": "code",
   "execution_count": 33,
   "metadata": {
    "id": "EHyZxNmXZdsa"
   },
   "outputs": [],
   "source": [
    "class Phone(Product):\n",
    "    \n",
    "    def __init__(self, phone):\n",
    "        Product.__init__(self, phone)\n",
    "        print(f'The product name {self.name}')"
   ]
  },
  {
   "cell_type": "code",
   "execution_count": 34,
   "metadata": {
    "id": "kHbsXOi1Zdsa"
   },
   "outputs": [],
   "source": [
    "phone = ['Apple', 4000, 2019]"
   ]
  },
  {
   "cell_type": "code",
   "execution_count": 35,
   "metadata": {
    "id": "BU2GhgwfZdsb",
    "outputId": "57719cb6-3581-4661-d0d2-3deb4611e784"
   },
   "outputs": [
    {
     "name": "stdout",
     "output_type": "stream",
     "text": [
      "The product name Apple\n"
     ]
    }
   ],
   "source": [
    "p = Phone(phone)"
   ]
  },
  {
   "cell_type": "code",
   "execution_count": 36,
   "metadata": {
    "id": "NfWmQwbCZdsc",
    "outputId": "7a520e22-5fbc-4c56-b738-3658ba3e6497"
   },
   "outputs": [
    {
     "data": {
      "text/plain": [
       "4600.0"
      ]
     },
     "execution_count": 36,
     "metadata": {},
     "output_type": "execute_result"
    }
   ],
   "source": [
    "p.sale_price()"
   ]
  },
  {
   "cell_type": "code",
   "execution_count": 37,
   "metadata": {
    "id": "hM1yND_0Zdsc"
   },
   "outputs": [],
   "source": [
    "class Polygon:\n",
    "\n",
    "    def __init__(self, n):\n",
    "        self.number_of_sides = n\n",
    "\n",
    "    def __str__(self):\n",
    "        return f'There are {self.number_of_sides} sides.'"
   ]
  },
  {
   "cell_type": "code",
   "execution_count": 38,
   "metadata": {
    "id": "xpoYeu22Zdsd"
   },
   "outputs": [],
   "source": [
    "p = Polygon(9)"
   ]
  },
  {
   "cell_type": "code",
   "execution_count": 39,
   "metadata": {
    "id": "SFJfIXLXZdsd",
    "outputId": "5d66076f-ac42-4c6c-d4bf-0d6f84a83d90"
   },
   "outputs": [
    {
     "name": "stdout",
     "output_type": "stream",
     "text": [
      "There are 9 sides.\n"
     ]
    }
   ],
   "source": [
    "print(p)"
   ]
  },
  {
   "cell_type": "code",
   "execution_count": 40,
   "metadata": {
    "id": "M5Ep6leGZdse"
   },
   "outputs": [],
   "source": [
    "class Rectangle(Polygon):\n",
    "    def __init__(self, num_length):\n",
    "        Polygon.__init__(self,4)\n",
    "        self.num_length = num_length\n",
    "                \n",
    "    def area(self):\n",
    "        x, y = self.num_length\n",
    "        print ('The area of rectangle is',x*y)"
   ]
  },
  {
   "cell_type": "code",
   "execution_count": 41,
   "metadata": {
    "id": "hQe4kfK-Zdse"
   },
   "outputs": [],
   "source": [
    "rec =Rectangle([3,4])"
   ]
  },
  {
   "cell_type": "code",
   "execution_count": 42,
   "metadata": {
    "id": "f7oOO7oJZdsf",
    "outputId": "8fd8ddcb-61cc-4ffe-c30c-e86b3eff03d4"
   },
   "outputs": [
    {
     "name": "stdout",
     "output_type": "stream",
     "text": [
      "There are 4 sides.\n"
     ]
    }
   ],
   "source": [
    "print(rec)"
   ]
  },
  {
   "cell_type": "code",
   "execution_count": 43,
   "metadata": {
    "id": "6r2CI1ZYZdsf",
    "outputId": "9e5591b1-2bdb-4f3b-bbd5-dd07bf6921a7"
   },
   "outputs": [
    {
     "name": "stdout",
     "output_type": "stream",
     "text": [
      "The area of rectangle is 12\n"
     ]
    }
   ],
   "source": [
    "rec.area()"
   ]
  },
  {
   "cell_type": "code",
   "execution_count": 44,
   "metadata": {
    "id": "B6plsiZCZdsg"
   },
   "outputs": [],
   "source": [
    "class Triangle(Polygon):\n",
    "    def __init__(self, num_length):\n",
    "        Polygon.__init__(self,3)\n",
    "        self.num_length = num_length\n",
    "        \n",
    "        \n",
    "    def area(self):\n",
    "        a, b, c = self.num_length\n",
    "        # half_perimeter\n",
    "        s = (a + b + c) / 2\n",
    "        area_trng = ((s* (s-a)* (s-b)* (s-c))**0.5)\n",
    "        print ('The area of triangle is',area_trng)"
   ]
  },
  {
   "cell_type": "code",
   "execution_count": 45,
   "metadata": {
    "id": "HlLeWadNZdsg"
   },
   "outputs": [],
   "source": [
    "trin = Triangle([3,4,2])"
   ]
  },
  {
   "cell_type": "code",
   "execution_count": 46,
   "metadata": {
    "id": "KAhQTHXLZdsh",
    "outputId": "922c171e-b0c3-4179-f471-ec4c040b0008"
   },
   "outputs": [
    {
     "data": {
      "text/plain": [
       "'There are 3 sides.'"
      ]
     },
     "execution_count": 46,
     "metadata": {},
     "output_type": "execute_result"
    }
   ],
   "source": [
    "str(trin)"
   ]
  },
  {
   "cell_type": "code",
   "execution_count": 47,
   "metadata": {
    "id": "XhQyR-9-Zdsh",
    "outputId": "88be743c-d212-49f0-dd53-3bb484cfad80"
   },
   "outputs": [
    {
     "name": "stdout",
     "output_type": "stream",
     "text": [
      "The area of triangle is 2.9047375096555625\n"
     ]
    }
   ],
   "source": [
    "trin.area()"
   ]
  },
  {
   "cell_type": "markdown",
   "metadata": {
    "id": "4JyMfvAiZdsi"
   },
   "source": [
    "## Magic Methods/ special methods\n",
    "### __ str __: \n",
    "change the presentation of class"
   ]
  },
  {
   "cell_type": "code",
   "execution_count": 48,
   "metadata": {
    "id": "3X-cyk7GZdsi"
   },
   "outputs": [],
   "source": [
    "class Name():\n",
    "    \n",
    "    def __init__(self, name):\n",
    "        self.name = name\n",
    "        \n",
    "    def __str__(self):\n",
    "        return f'The name is {self.name}'"
   ]
  },
  {
   "cell_type": "code",
   "execution_count": 49,
   "metadata": {
    "id": "DSF7Aj6kZdsj"
   },
   "outputs": [],
   "source": [
    "n = Name('Arwa')"
   ]
  },
  {
   "cell_type": "code",
   "execution_count": 50,
   "metadata": {
    "id": "lGpklwV6Zdsj",
    "outputId": "6a3a3f20-261f-438d-d97b-0f9fab8d27ba"
   },
   "outputs": [
    {
     "data": {
      "text/plain": [
       "'The name is Arwa'"
      ]
     },
     "execution_count": 50,
     "metadata": {},
     "output_type": "execute_result"
    }
   ],
   "source": [
    "str(n)"
   ]
  },
  {
   "cell_type": "markdown",
   "metadata": {
    "id": "nOKLrRGaZdsk"
   },
   "source": [
    "### __ len __:\n",
    "return count"
   ]
  },
  {
   "cell_type": "code",
   "execution_count": 51,
   "metadata": {
    "id": "TrwMt3QJZdsk"
   },
   "outputs": [],
   "source": [
    "class Staff():\n",
    "    \n",
    "    def __init__(self, department, num_staff):\n",
    "        self.department =department\n",
    "        self.num_staff = num_staff\n",
    "        \n",
    "    def __len__(self):\n",
    "        return self.num_staff"
   ]
  },
  {
   "cell_type": "code",
   "execution_count": 52,
   "metadata": {
    "id": "2ze_bio5Zdsk"
   },
   "outputs": [],
   "source": [
    "staff = Staff(\"AI\", 57)"
   ]
  },
  {
   "cell_type": "code",
   "execution_count": null,
   "metadata": {
    "id": "WrD5DkkqZdsl",
    "outputId": "70394d42-2f11-4693-b435-8ac08e5918c1"
   },
   "outputs": [
    {
     "data": {
      "text/plain": [
       "57"
      ]
     },
     "execution_count": 121,
     "metadata": {
      "tags": []
     },
     "output_type": "execute_result"
    }
   ],
   "source": [
    "len(staff)"
   ]
  },
  {
   "cell_type": "markdown",
   "metadata": {
    "id": "9m1qynFgZdsl"
   },
   "source": [
    "## __ del __\n",
    "As a destructor <br>. \n",
    "It is called when all references to the object have been deleted"
   ]
  },
  {
   "cell_type": "code",
   "execution_count": 53,
   "metadata": {
    "executionInfo": {
     "elapsed": 25,
     "status": "ok",
     "timestamp": 1628017440325,
     "user": {
      "displayName": "احمد الغامدي",
      "photoUrl": "",
      "userId": "15414614545289853046"
     },
     "user_tz": -180
    },
    "id": "Xes1qgKBZdsm"
   },
   "outputs": [],
   "source": [
    "class Name():\n",
    "    \n",
    "    def __init__(self, name):\n",
    "        self.name = name\n",
    "        \n",
    "    def __str__(self):\n",
    "        return f'The name is {self.name}'\n",
    "    \n",
    "    def __del__(self):\n",
    "        return f'{self.name} deleted from memory'"
   ]
  },
  {
   "cell_type": "code",
   "execution_count": 54,
   "metadata": {
    "executionInfo": {
     "elapsed": 25,
     "status": "ok",
     "timestamp": 1628017440327,
     "user": {
      "displayName": "احمد الغامدي",
      "photoUrl": "",
      "userId": "15414614545289853046"
     },
     "user_tz": -180
    },
    "id": "Tk3cJGC-Zdsm"
   },
   "outputs": [],
   "source": [
    "n = Name(\"Arwa\")"
   ]
  },
  {
   "cell_type": "code",
   "execution_count": 55,
   "metadata": {
    "colab": {
     "base_uri": "https://localhost:8080/",
     "height": 0
    },
    "executionInfo": {
     "elapsed": 27,
     "status": "ok",
     "timestamp": 1628017440329,
     "user": {
      "displayName": "احمد الغامدي",
      "photoUrl": "",
      "userId": "15414614545289853046"
     },
     "user_tz": -180
    },
    "id": "Kl_DWmUpZdsn",
    "outputId": "42624881-1e31-4bc2-ad77-05ebd3d668db"
   },
   "outputs": [
    {
     "data": {
      "text/plain": [
       "'The name is Arwa'"
      ]
     },
     "execution_count": 55,
     "metadata": {},
     "output_type": "execute_result"
    }
   ],
   "source": [
    "str(n)"
   ]
  },
  {
   "cell_type": "code",
   "execution_count": 56,
   "metadata": {
    "executionInfo": {
     "elapsed": 25,
     "status": "ok",
     "timestamp": 1628017440330,
     "user": {
      "displayName": "احمد الغامدي",
      "photoUrl": "",
      "userId": "15414614545289853046"
     },
     "user_tz": -180
    },
    "id": "9IkNCcfCZdsn"
   },
   "outputs": [],
   "source": [
    "del(n)"
   ]
  },
  {
   "cell_type": "markdown",
   "metadata": {
    "id": "gcJhdHa5Zdsn"
   },
   "source": [
    "#### exercise"
   ]
  },
  {
   "cell_type": "code",
   "execution_count": 57,
   "metadata": {
    "executionInfo": {
     "elapsed": 26,
     "status": "ok",
     "timestamp": 1628017440331,
     "user": {
      "displayName": "احمد الغامدي",
      "photoUrl": "",
      "userId": "15414614545289853046"
     },
     "user_tz": -180
    },
    "id": "HcwAV0WTZdso"
   },
   "outputs": [],
   "source": [
    "class Account():\n",
    "    \n",
    "    instance_count = 0\n",
    "    \n",
    "    def __init__(self, account_num, holder_name, balance):\n",
    "        Account.instance_count += 1\n",
    "        self.account_num =account_num\n",
    "        self.holder_name = holder_name\n",
    "        self.balance = balance\n",
    "        #self.account_type = account_type\n",
    "        \n",
    "    def __str__(self):\n",
    "        return f'Account[{self.account_num}] - {self.holder_name}, account = {self.balance}'\n",
    "\n",
    "    def deposit(self, amount):\n",
    "        self.balance += amount\n",
    "        return f'Deposit: {self.balance}' \n",
    "    \n",
    "    def withdraw(self, amount):\n",
    "        self.balance -= amount\n",
    "        return f'Withdraw: {self.balance}'     \n",
    "    \n",
    "    def get_balance(self):\n",
    "        return f'Balance: {self.balance}'  "
   ]
  },
  {
   "cell_type": "code",
   "execution_count": 58,
   "metadata": {
    "executionInfo": {
     "elapsed": 26,
     "status": "ok",
     "timestamp": 1628017440332,
     "user": {
      "displayName": "احمد الغامدي",
      "photoUrl": "",
      "userId": "15414614545289853046"
     },
     "user_tz": -180
    },
    "id": "k3Zz3dE6Zdsp"
   },
   "outputs": [],
   "source": [
    "acc1 = Account('123', 'John', 10.05) \n",
    "acc2 = Account('345', 'John', 23.55) \n",
    "acc3 = Account('567', 'Phoebe', 12.45)"
   ]
  },
  {
   "cell_type": "code",
   "execution_count": 59,
   "metadata": {
    "colab": {
     "base_uri": "https://localhost:8080/"
    },
    "executionInfo": {
     "elapsed": 25,
     "status": "ok",
     "timestamp": 1628017440332,
     "user": {
      "displayName": "احمد الغامدي",
      "photoUrl": "",
      "userId": "15414614545289853046"
     },
     "user_tz": -180
    },
    "id": "FfgVxacgZdsq",
    "outputId": "73fab2a0-7a48-4b53-9aaa-c45cb4855222"
   },
   "outputs": [
    {
     "name": "stdout",
     "output_type": "stream",
     "text": [
      "Account[123] - John, account = 10.05\n",
      "Account[345] - John, account = 23.55\n",
      "Account[567] - Phoebe, account = 12.45\n"
     ]
    }
   ],
   "source": [
    "print(acc1)\n",
    "print(acc2)\n",
    "print(acc3)"
   ]
  },
  {
   "cell_type": "code",
   "execution_count": 60,
   "metadata": {
    "colab": {
     "base_uri": "https://localhost:8080/"
    },
    "executionInfo": {
     "elapsed": 25,
     "status": "ok",
     "timestamp": 1628017440333,
     "user": {
      "displayName": "احمد الغامدي",
      "photoUrl": "",
      "userId": "15414614545289853046"
     },
     "user_tz": -180
    },
    "id": "95etvEG6Zdsr",
    "outputId": "30232264-6444-46c3-add2-28f7292a4b84"
   },
   "outputs": [
    {
     "name": "stdout",
     "output_type": "stream",
     "text": [
      "3\n"
     ]
    }
   ],
   "source": [
    "print(Account.instance_count)"
   ]
  },
  {
   "cell_type": "code",
   "execution_count": 61,
   "metadata": {
    "colab": {
     "base_uri": "https://localhost:8080/",
     "height": 0
    },
    "executionInfo": {
     "elapsed": 27,
     "status": "ok",
     "timestamp": 1628017440335,
     "user": {
      "displayName": "احمد الغامدي",
      "photoUrl": "",
      "userId": "15414614545289853046"
     },
     "user_tz": -180
    },
    "id": "rYYP5wUjZdsr",
    "outputId": "ada753d3-f91f-4758-e4ed-5219e828320d"
   },
   "outputs": [
    {
     "data": {
      "text/plain": [
       "'Deposit: 33.5'"
      ]
     },
     "execution_count": 61,
     "metadata": {},
     "output_type": "execute_result"
    }
   ],
   "source": [
    "acc1.deposit(23.45)"
   ]
  },
  {
   "cell_type": "code",
   "execution_count": 62,
   "metadata": {
    "colab": {
     "base_uri": "https://localhost:8080/",
     "height": 0
    },
    "executionInfo": {
     "elapsed": 26,
     "status": "ok",
     "timestamp": 1628017440336,
     "user": {
      "displayName": "احمد الغامدي",
      "photoUrl": "",
      "userId": "15414614545289853046"
     },
     "user_tz": -180
    },
    "id": "y6gI_1k0Zdss",
    "outputId": "0317f7ee-a271-4b9e-dc34-b88b89eb56fe"
   },
   "outputs": [
    {
     "data": {
      "text/plain": [
       "'Withdraw: 21.17'"
      ]
     },
     "execution_count": 62,
     "metadata": {},
     "output_type": "execute_result"
    }
   ],
   "source": [
    "acc1.withdraw(12.33)"
   ]
  },
  {
   "cell_type": "code",
   "execution_count": 63,
   "metadata": {
    "colab": {
     "base_uri": "https://localhost:8080/",
     "height": 0
    },
    "executionInfo": {
     "elapsed": 26,
     "status": "ok",
     "timestamp": 1628017440337,
     "user": {
      "displayName": "احمد الغامدي",
      "photoUrl": "",
      "userId": "15414614545289853046"
     },
     "user_tz": -180
    },
    "id": "GyXbK4izZdss",
    "outputId": "cff9dbc4-0c54-406f-8772-a04cdf237200"
   },
   "outputs": [
    {
     "data": {
      "text/plain": [
       "'Balance: 21.17'"
      ]
     },
     "execution_count": 63,
     "metadata": {},
     "output_type": "execute_result"
    }
   ],
   "source": [
    "acc1.get_balance()"
   ]
  }
 ],
 "metadata": {
  "colab": {
   "name": "OOPInPython.ipynb",
   "provenance": []
  },
  "kernelspec": {
   "display_name": "Python 3 (ipykernel)",
   "language": "python",
   "name": "python3"
  },
  "language_info": {
   "codemirror_mode": {
    "name": "ipython",
    "version": 3
   },
   "file_extension": ".py",
   "mimetype": "text/x-python",
   "name": "python",
   "nbconvert_exporter": "python",
   "pygments_lexer": "ipython3",
   "version": "3.11.4"
  }
 },
 "nbformat": 4,
 "nbformat_minor": 1
}
