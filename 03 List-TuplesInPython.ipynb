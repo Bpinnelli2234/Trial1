{
 "cells": [
  {
   "cell_type": "markdown",
   "metadata": {
    "id": "FwqZu-fcxx5s"
   },
   "source": [
    "# List\n",
    "### Introduction to the list\n",
    "It contains indices and it may be a nested list. It is like an array <br>\n",
    "Dealing with lists like strings<br>\n",
    "It accepts any data type"
   ]
  },
  {
   "cell_type": "code",
   "execution_count": 1,
   "metadata": {
    "id": "iLscxG18xx5z"
   },
   "outputs": [],
   "source": [
    "#contaning one or multi data type \n",
    "language = ['Arabic', 'English', 'French']\n",
    "employee = ['Ali', 25, 7.5,['Moath', 30, 4.5]]"
   ]
  },
  {
   "cell_type": "code",
   "execution_count": 2,
   "metadata": {
    "id": "MYEm_anJxx51",
    "outputId": "42285bc0-1023-475f-b7a7-c1b8adb22b4d"
   },
   "outputs": [
    {
     "name": "stdout",
     "output_type": "stream",
     "text": [
      "Language list:  ['English', 'French']\n",
      "Employee list:  ['Moath', 30, 4.5]\n"
     ]
    }
   ],
   "source": [
    "#you can use slicing like string\n",
    "print(\"Language list: \",language[1:])\n",
    "print(\"Employee list: \",employee[3])"
   ]
  },
  {
   "cell_type": "markdown",
   "metadata": {
    "id": "Ih68tluuxx52"
   },
   "source": [
    "### List concatenation\n",
    "concatenate two list or more using `+`"
   ]
  },
  {
   "cell_type": "code",
   "execution_count": 3,
   "metadata": {
    "id": "1yXosPvxxx53"
   },
   "outputs": [],
   "source": [
    "name = ['Amel', 'Kholod', 'Fatema']\n",
    "age = [20, 22, 22]"
   ]
  },
  {
   "cell_type": "code",
   "execution_count": 4,
   "metadata": {
    "id": "hkcinTZaxx54",
    "outputId": "dcd8588c-cf41-40fe-93ee-b49a479b64d4"
   },
   "outputs": [
    {
     "name": "stdout",
     "output_type": "stream",
     "text": [
      "['Amel', 'Kholod', 'Fatema', 20, 22, 22]\n"
     ]
    }
   ],
   "source": [
    "lst = name + age\n",
    "print(lst)"
   ]
  },
  {
   "cell_type": "markdown",
   "metadata": {
    "id": "Q0WgeCqnxx55"
   },
   "source": [
    "### Replace item in list using index\n",
    "Just need index number"
   ]
  },
  {
   "cell_type": "code",
   "execution_count": 5,
   "metadata": {
    "id": "a_HzIl0Jxx56"
   },
   "outputs": [],
   "source": [
    "name[0]='Arwa'"
   ]
  },
  {
   "cell_type": "code",
   "execution_count": 6,
   "metadata": {
    "id": "Abock0DQxx57",
    "outputId": "e5237270-7930-4d4b-e240-297db1f1e40d"
   },
   "outputs": [
    {
     "data": {
      "text/plain": [
       "['Arwa', 'Kholod', 'Fatema']"
      ]
     },
     "execution_count": 6,
     "metadata": {},
     "output_type": "execute_result"
    }
   ],
   "source": [
    "name"
   ]
  },
  {
   "cell_type": "code",
   "execution_count": 7,
   "metadata": {
    "id": "LfBo3dIWxx58"
   },
   "outputs": [],
   "source": [
    "age[0]= 21"
   ]
  },
  {
   "cell_type": "code",
   "execution_count": 8,
   "metadata": {
    "id": "6jQrUskHxx58",
    "outputId": "d0300bef-476b-434a-af3a-56cbbb8508ea"
   },
   "outputs": [
    {
     "name": "stdout",
     "output_type": "stream",
     "text": [
      "['Arwa', 'Kholod', 'Fatema', 21, 22, 22]\n"
     ]
    }
   ],
   "source": [
    "lst = name + age\n",
    "print(lst)"
   ]
  },
  {
   "cell_type": "markdown",
   "metadata": {
    "id": "5637Kqpsxx59"
   },
   "source": [
    "## Function\n",
    "### `append` method\n",
    "Using to add item "
   ]
  },
  {
   "cell_type": "code",
   "execution_count": 9,
   "metadata": {
    "id": "PgnTwerFxx59"
   },
   "outputs": [],
   "source": [
    "items =['dress', 'bag', 'skirt']"
   ]
  },
  {
   "cell_type": "code",
   "execution_count": 10,
   "metadata": {
    "id": "G15pDqT5xx5-"
   },
   "outputs": [],
   "source": [
    "items.append('shoe')"
   ]
  },
  {
   "cell_type": "code",
   "execution_count": 11,
   "metadata": {
    "id": "zemrXDVsxx5-",
    "outputId": "f0eed08f-058d-4c80-bdcf-a3ef3a380faf"
   },
   "outputs": [
    {
     "data": {
      "text/plain": [
       "['dress', 'bag', 'skirt', 'shoe']"
      ]
     },
     "execution_count": 11,
     "metadata": {},
     "output_type": "execute_result"
    }
   ],
   "source": [
    "items"
   ]
  },
  {
   "cell_type": "markdown",
   "metadata": {
    "id": "GR0hJtYIxx5_"
   },
   "source": [
    "### `pop` method\n",
    "Using to delete items <br>\n",
    "By default: it will delete the last item, if you want to delete the middle item you can use index<br>\n",
    "Also you can use a reverse indexing "
   ]
  },
  {
   "cell_type": "code",
   "execution_count": 12,
   "metadata": {
    "id": "9L98u-yfxx5_",
    "outputId": "d25ac1f1-6b0c-48e9-cb91-edd7eb61086f"
   },
   "outputs": [
    {
     "data": {
      "text/plain": [
       "'bag'"
      ]
     },
     "execution_count": 12,
     "metadata": {},
     "output_type": "execute_result"
    }
   ],
   "source": [
    "items.pop(1)"
   ]
  },
  {
   "cell_type": "code",
   "execution_count": 13,
   "metadata": {
    "id": "amG_hdlrxx6A",
    "outputId": "31167413-752c-4f48-9efe-3a91679d0b32"
   },
   "outputs": [
    {
     "data": {
      "text/plain": [
       "['dress', 'skirt', 'shoe']"
      ]
     },
     "execution_count": 13,
     "metadata": {},
     "output_type": "execute_result"
    }
   ],
   "source": [
    "items"
   ]
  },
  {
   "cell_type": "markdown",
   "metadata": {
    "id": "_KNahY_Vxx6A"
   },
   "source": [
    "### `sort` and `reverse` methods\n",
    "`sort`: used to sort items from smallest to largest,<br>\n",
    "`reverse`: used to sort items from largest to smallest<br>"
   ]
  },
  {
   "cell_type": "code",
   "execution_count": 14,
   "metadata": {
    "id": "U60Dy0WHxx6B"
   },
   "outputs": [],
   "source": [
    "items.sort()"
   ]
  },
  {
   "cell_type": "code",
   "execution_count": 15,
   "metadata": {
    "id": "8yZrxa8Uxx6C",
    "outputId": "5077bc87-db03-47fd-b711-970c582072f2"
   },
   "outputs": [
    {
     "data": {
      "text/plain": [
       "['dress', 'shoe', 'skirt']"
      ]
     },
     "execution_count": 15,
     "metadata": {},
     "output_type": "execute_result"
    }
   ],
   "source": [
    "items"
   ]
  },
  {
   "cell_type": "code",
   "execution_count": 16,
   "metadata": {
    "id": "jMmIAGnRxx6D"
   },
   "outputs": [],
   "source": [
    "#mistake!!\n",
    "name =['Ali', 'khaled', 'Hamad']"
   ]
  },
  {
   "cell_type": "code",
   "execution_count": 17,
   "metadata": {
    "id": "q0kOv031xx6E"
   },
   "outputs": [],
   "source": [
    "sort_name = name.sort()"
   ]
  },
  {
   "cell_type": "code",
   "execution_count": 18,
   "metadata": {
    "id": "pDxxCKG1xx6F"
   },
   "outputs": [],
   "source": [
    "#nothing returning\n",
    "sort_name"
   ]
  },
  {
   "cell_type": "code",
   "execution_count": 19,
   "metadata": {
    "id": "JW8OOOCoxx6F",
    "outputId": "9556fe0f-4db2-42d7-8499-edd526c7296b"
   },
   "outputs": [
    {
     "name": "stdout",
     "output_type": "stream",
     "text": [
      "['Ali', 'Hamad', 'khaled']\n"
     ]
    }
   ],
   "source": [
    "#you can avoid the error\n",
    "sort_name = name\n",
    "print(sort_name)"
   ]
  },
  {
   "cell_type": "code",
   "execution_count": 20,
   "metadata": {
    "id": "pCrrys_kxx6G"
   },
   "outputs": [],
   "source": [
    "name.reverse()"
   ]
  },
  {
   "cell_type": "code",
   "execution_count": 21,
   "metadata": {
    "id": "a2hYTtlLxx6G",
    "outputId": "18ac4ac4-ccf6-44b8-b3c4-3b6aea33170a"
   },
   "outputs": [
    {
     "data": {
      "text/plain": [
       "['khaled', 'Hamad', 'Ali']"
      ]
     },
     "execution_count": 21,
     "metadata": {},
     "output_type": "execute_result"
    }
   ],
   "source": [
    "name"
   ]
  },
  {
   "cell_type": "markdown",
   "metadata": {
    "id": "yg7rQc4Jxx6G"
   },
   "source": [
    "### Nested lists\n"
   ]
  },
  {
   "cell_type": "code",
   "execution_count": 22,
   "metadata": {
    "id": "Z7m8x6NBxx6H"
   },
   "outputs": [],
   "source": [
    "staff = ['Ali', 25, 7.5,['Moath', 30, 4.5],['Khaled', 24, 8]]"
   ]
  },
  {
   "cell_type": "code",
   "execution_count": 23,
   "metadata": {
    "id": "aBqRjCoAxx6H",
    "outputId": "84059866-3fac-4487-9e73-80cb2a960cb6"
   },
   "outputs": [
    {
     "name": "stdout",
     "output_type": "stream",
     "text": [
      "Staff list:  ['Khaled', 24, 8]\n",
      "Staff list:  ['Moath', 30]\n"
     ]
    }
   ],
   "source": [
    "#print index in nested list\n",
    "print(\"Staff list: \",staff[4])\n",
    "print(\"Staff list: \",staff[3][:2])"
   ]
  },
  {
   "cell_type": "markdown",
   "metadata": {
    "id": "1kzT7bYNxx6H"
   },
   "source": [
    "### `len` and `type`\n",
    "`len` to count items start from 1<br>\n",
    "`type` to return type of object or variable"
   ]
  },
  {
   "cell_type": "code",
   "execution_count": 24,
   "metadata": {
    "id": "q8VFfMIGxx6H",
    "outputId": "00a10ac7-5924-4c38-8b68-0ecdcaef88e9"
   },
   "outputs": [
    {
     "data": {
      "text/plain": [
       "5"
      ]
     },
     "execution_count": 24,
     "metadata": {},
     "output_type": "execute_result"
    }
   ],
   "source": [
    "len(staff)"
   ]
  },
  {
   "cell_type": "code",
   "execution_count": 25,
   "metadata": {
    "id": "QKcSci6bxx6H",
    "outputId": "4ece2658-af91-4cbb-a9fe-752a7c6ce3a3"
   },
   "outputs": [
    {
     "data": {
      "text/plain": [
       "list"
      ]
     },
     "execution_count": 25,
     "metadata": {},
     "output_type": "execute_result"
    }
   ],
   "source": [
    "type(staff)"
   ]
  },
  {
   "cell_type": "markdown",
   "metadata": {
    "id": "TSTfCIQyxx6I"
   },
   "source": [
    "# Tupels\n",
    "It is immutable "
   ]
  },
  {
   "cell_type": "code",
   "execution_count": 26,
   "metadata": {
    "id": "KtUCSEPWxx6I"
   },
   "outputs": [],
   "source": [
    "ages = (19, 18, 21, 20)"
   ]
  },
  {
   "cell_type": "code",
   "execution_count": 27,
   "metadata": {
    "id": "kNGzNbzpxx6I",
    "outputId": "6c60868e-18d8-4029-ccea-5f219683714f"
   },
   "outputs": [
    {
     "data": {
      "text/plain": [
       "tuple"
      ]
     },
     "execution_count": 27,
     "metadata": {},
     "output_type": "execute_result"
    }
   ],
   "source": [
    "type(ages)"
   ]
  },
  {
   "cell_type": "code",
   "execution_count": 28,
   "metadata": {
    "id": "hnLFwuG0xx6J",
    "outputId": "d0062e75-de65-4c64-a7c5-ee5569a07b35"
   },
   "outputs": [
    {
     "data": {
      "text/plain": [
       "4"
      ]
     },
     "execution_count": 28,
     "metadata": {},
     "output_type": "execute_result"
    }
   ],
   "source": [
    "len(ages)"
   ]
  },
  {
   "cell_type": "code",
   "execution_count": 29,
   "metadata": {
    "id": "xvLh4pAOxx6J",
    "outputId": "a4519e72-7654-4ad5-f439-7828bbce2e79"
   },
   "outputs": [
    {
     "data": {
      "text/plain": [
       "21"
      ]
     },
     "execution_count": 29,
     "metadata": {},
     "output_type": "execute_result"
    }
   ],
   "source": [
    "ages[2]\n",
    "#cann't cahnge items\n",
    "#ages[1] = 19"
   ]
  },
  {
   "cell_type": "markdown",
   "metadata": {
    "id": "emALyZFrxx6J"
   },
   "source": [
    "### `index` and `count`\n",
    "`intdex` used to show index item\n",
    "`count` used to show how many item repeat"
   ]
  },
  {
   "cell_type": "code",
   "execution_count": 30,
   "metadata": {
    "id": "8K-u8qroxx6J"
   },
   "outputs": [],
   "source": [
    "tup = ['x', 'y', 5, 6, 5, 'x',5]"
   ]
  },
  {
   "cell_type": "code",
   "execution_count": 31,
   "metadata": {
    "id": "tQMIZv7yxx6J",
    "outputId": "7d18506c-f2ca-4c54-cdbb-336077b1defd"
   },
   "outputs": [
    {
     "data": {
      "text/plain": [
       "0"
      ]
     },
     "execution_count": 31,
     "metadata": {},
     "output_type": "execute_result"
    }
   ],
   "source": [
    "#show first index of 'x'\n",
    "tup.index('x')"
   ]
  },
  {
   "cell_type": "code",
   "execution_count": 32,
   "metadata": {
    "id": "JJJAG8FMxx6K",
    "outputId": "281feec6-3452-407f-b58c-e5ab8a3ede1c"
   },
   "outputs": [
    {
     "data": {
      "text/plain": [
       "3"
      ]
     },
     "execution_count": 32,
     "metadata": {},
     "output_type": "execute_result"
    }
   ],
   "source": [
    "tup.count(5)"
   ]
  }
 ],
 "metadata": {
  "colab": {
   "name": "List-TuplesInPython.ipynb",
   "provenance": []
  },
  "kernelspec": {
   "display_name": "Python 3 (ipykernel)",
   "language": "python",
   "name": "python3"
  },
  "language_info": {
   "codemirror_mode": {
    "name": "ipython",
    "version": 3
   },
   "file_extension": ".py",
   "mimetype": "text/x-python",
   "name": "python",
   "nbconvert_exporter": "python",
   "pygments_lexer": "ipython3",
   "version": "3.11.4"
  }
 },
 "nbformat": 4,
 "nbformat_minor": 1
}
