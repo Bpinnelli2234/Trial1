{
 "cells": [
  {
   "cell_type": "markdown",
   "metadata": {},
   "source": [
    "# Decorators\n",
    "In Decorators, functions are taken as the argument into another function and then called  inside the wrapper function. <br>\n",
    "+ Reduce coding  <br>\n",
    "+ Easy to modify"
   ]
  },
  {
   "cell_type": "markdown",
   "metadata": {},
   "source": [
    "## How to write decorators\n",
    "Decorators need argument and assign to functions"
   ]
  },
  {
   "cell_type": "code",
   "execution_count": 1,
   "metadata": {},
   "outputs": [],
   "source": [
    "#func: as variable that bear a function\n",
    "age = 18\n",
    "def check_age(func):\n",
    "    \n",
    "    def age_wrapper():\n",
    "        allowed_age = 18\n",
    "        if(age >= allowed_age):\n",
    "            func()\n",
    "        else:\n",
    "            return f'you must be >= {allowed_age}'\n",
    "    return age_wrapper"
   ]
  },
  {
   "cell_type": "code",
   "execution_count": 2,
   "metadata": {},
   "outputs": [],
   "source": [
    "# @check_age: it assigen func to print_name()\n",
    "@check_age\n",
    "def print_name():\n",
    "    print(\"Arwa\")"
   ]
  },
  {
   "cell_type": "code",
   "execution_count": 3,
   "metadata": {},
   "outputs": [],
   "source": [
    "@check_age\n",
    "def print_card():\n",
    "    print(\"This is your card\")"
   ]
  },
  {
   "cell_type": "code",
   "execution_count": 4,
   "metadata": {},
   "outputs": [
    {
     "name": "stdout",
     "output_type": "stream",
     "text": [
      "Arwa\n"
     ]
    }
   ],
   "source": [
    "print_name()"
   ]
  },
  {
   "cell_type": "code",
   "execution_count": 5,
   "metadata": {},
   "outputs": [
    {
     "name": "stdout",
     "output_type": "stream",
     "text": [
      "This is your card\n"
     ]
    }
   ],
   "source": [
    "print_card()"
   ]
  },
  {
   "cell_type": "markdown",
   "metadata": {},
   "source": [
    "## exercise"
   ]
  },
  {
   "cell_type": "code",
   "execution_count": 6,
   "metadata": {},
   "outputs": [
    {
     "data": {
      "text/plain": [
       "'you must be >= 18'"
      ]
     },
     "execution_count": 6,
     "metadata": {},
     "output_type": "execute_result"
    }
   ],
   "source": [
    "age = 17\n",
    "def check_age(allowed_age):\n",
    "    \n",
    "    def decorator(func):\n",
    "        \n",
    "        def age_wrapper():\n",
    "            if (age >= allowed_age):\n",
    "                func()\n",
    "            else:\n",
    "                return f'you must be >= {allowed_age}'\n",
    "        return age_wrapper\n",
    "    return decorator\n",
    "\n",
    "@check_age(18)\n",
    "def print_name():\n",
    "    print('Arwa')\n",
    "\n",
    "print_name()"
   ]
  },
  {
   "cell_type": "markdown",
   "metadata": {},
   "source": [
    "## Decorators Default Arguments\n",
    "callable: give True or False"
   ]
  },
  {
   "cell_type": "code",
   "execution_count": 7,
   "metadata": {},
   "outputs": [
    {
     "name": "stdout",
     "output_type": "stream",
     "text": [
      "Arwa\n"
     ]
    }
   ],
   "source": [
    "age = 18\n",
    "def check_age(arg):\n",
    "    \n",
    "    def decorator(func):\n",
    "        \n",
    "        def age_wrapper():\n",
    "            if (age >= allowed_age):\n",
    "                func()\n",
    "            else:\n",
    "                return f'you must be >= {allowed_age}'\n",
    "        return age_wrapper\n",
    "    \n",
    "    if callable(arg):\n",
    "        allowed_age = 18\n",
    "        return decorator(arg)\n",
    "    else:\n",
    "        allowed_age = age\n",
    "        return decorator\n",
    "\n",
    "@check_age\n",
    "def print_name():\n",
    "    print('Arwa')\n",
    "\n",
    "print_name()"
   ]
  },
  {
   "cell_type": "code",
   "execution_count": 8,
   "metadata": {},
   "outputs": [
    {
     "name": "stdout",
     "output_type": "stream",
     "text": [
      "\u001b[1m\u001b[93mHello world\u001b[93m\u001b[1m\n"
     ]
    }
   ],
   "source": [
    "def make_bold(fn):\n",
    "    \n",
    "    def makebold_wrapped():\n",
    "        return \"\\033[1m\" + fn() + \"\\033[1m\" \n",
    "    return makebold_wrapped\n",
    "\n",
    "def make_colore(fn):\n",
    "    \n",
    "    def makecolore_wrapped():\n",
    "        return \"\\033[93m\" + fn() + \"\\033[93m\" \n",
    "    return makecolore_wrapped\n",
    "\n",
    "# Apply decorators to function hello\n",
    "@make_bold \n",
    "@make_colore \n",
    "def hello():\n",
    "    return 'Hello world'\n",
    "\n",
    "# Call function hello\n",
    "print(hello())"
   ]
  }
 ],
 "metadata": {
  "kernelspec": {
   "display_name": "Python 3 (ipykernel)",
   "language": "python",
   "name": "python3"
  },
  "language_info": {
   "codemirror_mode": {
    "name": "ipython",
    "version": 3
   },
   "file_extension": ".py",
   "mimetype": "text/x-python",
   "name": "python",
   "nbconvert_exporter": "python",
   "pygments_lexer": "ipython3",
   "version": "3.11.4"
  }
 },
 "nbformat": 4,
 "nbformat_minor": 4
}
