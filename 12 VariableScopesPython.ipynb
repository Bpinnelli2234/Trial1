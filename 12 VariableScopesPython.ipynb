{
 "cells": [
  {
   "cell_type": "markdown",
   "metadata": {},
   "source": [
    "# Variable Scopes\n",
    "\n",
    "# 1 Bulit-in\n",
    "Like list \n",
    "## 2 Global\n",
    "Variable can access in all program\n",
    "### 3 Encolsing\n",
    "Between global and local\n",
    "#### 4 local\n",
    "Variable inside function"
   ]
  },
  {
   "cell_type": "code",
   "execution_count": 1,
   "metadata": {},
   "outputs": [
    {
     "name": "stdout",
     "output_type": "stream",
     "text": [
      "4\n",
      "1\n"
     ]
    }
   ],
   "source": [
    "x = 1 #global variable 'You can call it and access from anywhere'\n",
    "\n",
    "def scope():\n",
    "    x = 2 #local variable 'You can use it insed scope function'\n",
    "    return x + x\n",
    "\n",
    "print(scope()) #scope inside function\n",
    "print(x) #scope out of function"
   ]
  },
  {
   "cell_type": "markdown",
   "metadata": {},
   "source": [
    "## Nested Functions"
   ]
  },
  {
   "cell_type": "code",
   "execution_count": 2,
   "metadata": {},
   "outputs": [
    {
     "name": "stdout",
     "output_type": "stream",
     "text": [
      "Marwn\n"
     ]
    }
   ],
   "source": [
    "names = ['Marwn', 'Maram', 'Maryam'] #global variable \n",
    "\n",
    "def list_names(names):\n",
    "    \n",
    "    def name(names):\n",
    "        return names[0]\n",
    "    return name(names)\n",
    "\n",
    "my_list = list_names(names)\n",
    "print(my_list)"
   ]
  },
  {
   "cell_type": "markdown",
   "metadata": {},
   "source": [
    "## global keyword\n",
    "     If you assign variable as globel it will change it to be a globle"
   ]
  },
  {
   "cell_type": "code",
   "execution_count": 3,
   "metadata": {},
   "outputs": [
    {
     "name": "stdout",
     "output_type": "stream",
     "text": [
      "Hello world\n",
      "Hello world\n"
     ]
    }
   ],
   "source": [
    "x = 'Hello'\n",
    "\n",
    "def string():\n",
    "    \n",
    "    global x\n",
    "    x = 'Hello world'\n",
    "    return x\n",
    "\n",
    "print(string())\n",
    "print(x)"
   ]
  }
 ],
 "metadata": {
  "kernelspec": {
   "display_name": "Python 3 (ipykernel)",
   "language": "python",
   "name": "python3"
  },
  "language_info": {
   "codemirror_mode": {
    "name": "ipython",
    "version": 3
   },
   "file_extension": ".py",
   "mimetype": "text/x-python",
   "name": "python",
   "nbconvert_exporter": "python",
   "pygments_lexer": "ipython3",
   "version": "3.11.4"
  }
 },
 "nbformat": 4,
 "nbformat_minor": 4
}
