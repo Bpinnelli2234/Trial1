{
 "cells": [
  {
   "cell_type": "markdown",
   "metadata": {},
   "source": [
    "# for loop\n",
    "How the for-loop wrok\n",
    "Any variable has index <br>\n",
    "for: has a variable assigned inside it"
   ]
  },
  {
   "cell_type": "code",
   "execution_count": 1,
   "metadata": {},
   "outputs": [
    {
     "name": "stdout",
     "output_type": "stream",
     "text": [
      "chair\n",
      "sofa\n",
      "table\n",
      "board\n"
     ]
    }
   ],
   "source": [
    "things = ['chair', 'sofa', 'table', 'board']\n",
    "\n",
    "for thing in things:\n",
    "    print(thing)"
   ]
  },
  {
   "cell_type": "code",
   "execution_count": 2,
   "metadata": {},
   "outputs": [
    {
     "name": "stdout",
     "output_type": "stream",
     "text": [
      "index[0]:H\n",
      "index[1]:e\n",
      "index[2]:l\n",
      "index[3]:l\n",
      "index[4]:o\n"
     ]
    }
   ],
   "source": [
    "#print index of list using range\n",
    "#range: for a specific number defined by the user\n",
    "\n",
    "sentence = 'Hello'\n",
    "\n",
    "for letters in range(len(sentence)):\n",
    "    print(f'index[{letters}]:{sentence[letters]}')"
   ]
  },
  {
   "cell_type": "code",
   "execution_count": 3,
   "metadata": {},
   "outputs": [
    {
     "name": "stdout",
     "output_type": "stream",
     "text": [
      "index[0]:H\n",
      "index[1]:e\n",
      "index[2]:l\n",
      "index[3]:l\n",
      "index[4]:o\n"
     ]
    }
   ],
   "source": [
    "#enumerate: count of iterations.\n",
    "\n",
    "sentence = 'Hello'\n",
    "\n",
    "for index,letters in enumerate(sentence):\n",
    "    print(f'index[{index}]:{letters}')"
   ]
  },
  {
   "cell_type": "markdown",
   "metadata": {},
   "source": [
    "## break in for loop\n"
   ]
  },
  {
   "cell_type": "code",
   "execution_count": 4,
   "metadata": {},
   "outputs": [
    {
     "name": "stdout",
     "output_type": "stream",
     "text": [
      "chair\n",
      "sofa\n"
     ]
    }
   ],
   "source": [
    "things = ['chair', 'sofa', 'table', 'board']\n",
    "\n",
    "for thing in things:\n",
    "    \n",
    "    if (thing == 'table'):\n",
    "        break\n",
    "        \n",
    "    print(thing)"
   ]
  },
  {
   "cell_type": "code",
   "execution_count": 5,
   "metadata": {},
   "outputs": [
    {
     "name": "stdout",
     "output_type": "stream",
     "text": [
      "index[0]:H\n",
      "index[1]:e\n",
      "index[2]:l\n"
     ]
    }
   ],
   "source": [
    "sentence = 'Hello'\n",
    "\n",
    "for letters in range(len(sentence)):\n",
    "    \n",
    "    if (letters == 3):\n",
    "        break\n",
    "        \n",
    "    print(f'index[{letters}]:{sentence[letters]}')"
   ]
  },
  {
   "cell_type": "code",
   "execution_count": 6,
   "metadata": {},
   "outputs": [
    {
     "name": "stdout",
     "output_type": "stream",
     "text": [
      "index[0]:H\n",
      "index[1]:e\n"
     ]
    }
   ],
   "source": [
    "sentence = 'Hello'\n",
    "\n",
    "for index,letters in enumerate(sentence):\n",
    "    if (letters == 'l'):\n",
    "        break\n",
    "    print(f'index[{index}]:{letters}')"
   ]
  },
  {
   "cell_type": "markdown",
   "metadata": {},
   "source": [
    "## continue"
   ]
  },
  {
   "cell_type": "code",
   "execution_count": 7,
   "metadata": {},
   "outputs": [
    {
     "name": "stdout",
     "output_type": "stream",
     "text": [
      "index[0]:G\n",
      "index[1]:o\n",
      "index[2]:o\n",
      "index[3]:d\n",
      "index[5]:m\n",
      "index[6]:o\n",
      "index[7]:r\n",
      "index[8]:n\n",
      "index[9]:i\n",
      "index[10]:n\n",
      "index[11]:g\n"
     ]
    }
   ],
   "source": [
    "sentence = 'Good morning'\n",
    "\n",
    "for index,letters in enumerate(sentence):\n",
    "    if (letters == ' '):\n",
    "        continue\n",
    "    print(f'index[{index}]:{letters}')"
   ]
  },
  {
   "cell_type": "markdown",
   "metadata": {},
   "source": [
    "## example \n",
    "### dictionary with for loop"
   ]
  },
  {
   "cell_type": "code",
   "execution_count": 8,
   "metadata": {},
   "outputs": [
    {
     "name": "stdout",
     "output_type": "stream",
     "text": [
      "Congratulation Amal You're passed the course with 95\n",
      "Congratulation Sara You're passed the course with 98\n",
      "Congratulation Norah You're passed the course with 89\n",
      "Congratulation Safa You're passed the course with 86\n",
      "Congratulation Fatemh You're passed the course with 77\n",
      "\n",
      "Sorry Marwa You got 58\n"
     ]
    }
   ],
   "source": [
    "students = {\n",
    "    '1':{'name':'Amal','med_term':25, 'project':30 ,'final_exam':40},\n",
    "    '2':{'name':'Sara','med_term':28, 'project':30 ,'final_exam':40},\n",
    "    '3':{'name':'Norah','med_term':23, 'project':27 ,'final_exam':39},\n",
    "    '4':{'name':'Safa','med_term':24, 'project':27 ,'final_exam':35},\n",
    "    '5':{'name':'Fatemh','med_term':19,'project':25 ,'final_exam':33},\n",
    "    '6':{'name':'Marwa','med_term':10, 'project':25 ,'final_exam':23}\n",
    "}\n",
    "passed_degree = 60\n",
    "\n",
    "for key, student in students.items():\n",
    "    degree = student['med_term']+student['project']+student['final_exam']\n",
    "    \n",
    "    if (degree >= passed_degree):\n",
    "        print(\"Congratulation\", student['name'],'You\\'re passed the course with', degree)\n",
    "        \n",
    "    if (degree < passed_degree):\n",
    "        print()\n",
    "        print(\"Sorry\", student['name'],'You got', degree)      "
   ]
  },
  {
   "cell_type": "code",
   "execution_count": 9,
   "metadata": {},
   "outputs": [
    {
     "name": "stdout",
     "output_type": "stream",
     "text": [
      "Norah positive\n",
      "Fatemh positive\n"
     ]
    }
   ],
   "source": [
    "bloodDonors = {\n",
    "    '1':{'name':'Ahmad','age':25,'blood': 'AB+','smoker':'yes'},\n",
    "    '2':{'name':'Fahad','age':32,'blood': 'O+','smoker':'yes'},\n",
    "    '3':{'name':'Norah','age':20,'blood': 'O-','smoker':'no'},\n",
    "    '4':{'name':'Saleh','age':43,'blood': 'A+','smoker':'no'},\n",
    "    '5':{'name':'Fatemh','age':25,'blood': 'O+','smoker':'no'},\n",
    "    '6':{'name':'Lama','age':21,'blood': 'B+','smoker':'no'}   \n",
    "}\n",
    "\n",
    "for key, donor in bloodDonors.items():\n",
    "    \n",
    "    if ((donor['blood'] == 'O+' or donor['blood'] == 'O-') and (donor['smoker'] != 'yes')):\n",
    "        print(donor['name'],'positive')"
   ]
  },
  {
   "cell_type": "code",
   "execution_count": 10,
   "metadata": {},
   "outputs": [
    {
     "name": "stdout",
     "output_type": "stream",
     "text": [
      "Ahmad negative\n",
      "Fahad negative\n",
      "Norah posative\n",
      "Saleh negative\n",
      "Fatemh posative\n",
      "Lama negative\n"
     ]
    }
   ],
   "source": [
    "bloodDonors = {\n",
    "    '1':{'name':'Ahmad','age':25,'blood': 'AB+','smoker':'yes'},\n",
    "    '2':{'name':'Fahad','age':32,'blood': 'O+','smoker':'yes'},\n",
    "    '3':{'name':'Norah','age':20,'blood': 'O-','smoker':'no'},\n",
    "    '4':{'name':'Saleh','age':43,'blood': 'A+','smoker':'no'},\n",
    "    '5':{'name':'Fatemh','age':25,'blood': 'O+','smoker':'no'},\n",
    "    '6':{'name':'Lama','age':21,'blood': 'B+','smoker':'no'}   \n",
    "}\n",
    "\n",
    "for key, donor in bloodDonors.items():\n",
    "    \n",
    "    if ((donor['blood'] != 'O+'and donor['blood'] != 'O-') or (donor['smoker'] == 'yes')):\n",
    "        print(donor['name'],'negative')\n",
    "        continue    \n",
    "    print(donor['name'],'posative')"
   ]
  }
 ],
 "metadata": {
  "kernelspec": {
   "display_name": "Python 3 (ipykernel)",
   "language": "python",
   "name": "python3"
  },
  "language_info": {
   "codemirror_mode": {
    "name": "ipython",
    "version": 3
   },
   "file_extension": ".py",
   "mimetype": "text/x-python",
   "name": "python",
   "nbconvert_exporter": "python",
   "pygments_lexer": "ipython3",
   "version": "3.12.1"
  }
 },
 "nbformat": 4,
 "nbformat_minor": 4
}
