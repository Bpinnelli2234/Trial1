{
 "cells": [
  {
   "cell_type": "markdown",
   "metadata": {
    "id": "UlI7PS0eR8D9"
   },
   "source": [
    "# Generators\n",
    "It can takea a big data and divide it into bits, that makes work very easy<br>\n",
    "Improving memory usage <br>\n",
    "The memory in generators remeber the last variable without reassign <br>\n",
    "Use `yiled` to returen"
   ]
  },
  {
   "cell_type": "code",
   "execution_count": 1,
   "metadata": {
    "id": "e_HeLqQeR8EF"
   },
   "outputs": [],
   "source": [
    "#Normal function\n",
    "def func():\n",
    "    x = 10\n",
    "    print(x)\n",
    "    x+= 20\n",
    "    print(x)\n",
    "    x+= 20\n",
    "    print(x)"
   ]
  },
  {
   "cell_type": "code",
   "execution_count": 2,
   "metadata": {
    "id": "rgX8VhiaR8EI",
    "outputId": "b6efd0d4-24e4-402d-fdcc-c1484b8b68fa"
   },
   "outputs": [
    {
     "name": "stdout",
     "output_type": "stream",
     "text": [
      "10\n",
      "30\n",
      "50\n"
     ]
    }
   ],
   "source": [
    "func()"
   ]
  },
  {
   "cell_type": "code",
   "execution_count": 3,
   "metadata": {
    "id": "V7nbAEdBR8EN"
   },
   "outputs": [],
   "source": [
    "#Generator function\n",
    "def gen():\n",
    "    x = 10\n",
    "    yield x\n",
    "    x+= 20\n",
    "    yield x\n",
    "    x+= 20\n",
    "    yield x"
   ]
  },
  {
   "cell_type": "code",
   "execution_count": 4,
   "metadata": {
    "id": "hdM8QCtuR8EQ"
   },
   "outputs": [],
   "source": [
    "# call method alone \n",
    "gen = gen()"
   ]
  },
  {
   "cell_type": "code",
   "execution_count": 5,
   "metadata": {
    "id": "Tf2ofeKsR8ER",
    "outputId": "e3b8695c-3911-42ae-df0e-b686d5aa907e"
   },
   "outputs": [
    {
     "data": {
      "text/plain": [
       "10"
      ]
     },
     "execution_count": 5,
     "metadata": {},
     "output_type": "execute_result"
    }
   ],
   "source": [
    "next(gen)"
   ]
  },
  {
   "cell_type": "markdown",
   "metadata": {
    "id": "f57eHZHhR8ET"
   },
   "source": [
    "## Generators with for "
   ]
  },
  {
   "cell_type": "code",
   "execution_count": 6,
   "metadata": {
    "id": "0NkUkkrLR8EV"
   },
   "outputs": [],
   "source": [
    "def my_gen():\n",
    "    \n",
    "    for x in range(100,111):\n",
    "        yield x"
   ]
  },
  {
   "cell_type": "code",
   "execution_count": 7,
   "metadata": {
    "id": "tJAJcwlSR8EZ"
   },
   "outputs": [],
   "source": [
    "gen = my_gen()"
   ]
  },
  {
   "cell_type": "code",
   "execution_count": 8,
   "metadata": {
    "id": "5TVXGPpBR8Ec",
    "outputId": "2316d9e9-42e7-41da-e9d2-d84be4592cde"
   },
   "outputs": [
    {
     "data": {
      "text/plain": [
       "100"
      ]
     },
     "execution_count": 8,
     "metadata": {},
     "output_type": "execute_result"
    }
   ],
   "source": [
    "next(gen)"
   ]
  },
  {
   "cell_type": "code",
   "execution_count": 9,
   "metadata": {
    "id": "R8XLKv5wR8Ed",
    "outputId": "f6ca8d9f-cbc1-4d25-8b1d-b1c894bf7dc7"
   },
   "outputs": [
    {
     "name": "stdout",
     "output_type": "stream",
     "text": [
      "101\n",
      "102\n",
      "103\n",
      "104\n",
      "105\n",
      "106\n",
      "107\n",
      "108\n",
      "109\n",
      "110\n"
     ]
    }
   ],
   "source": [
    "for g in gen:\n",
    "    print(g)"
   ]
  },
  {
   "cell_type": "code",
   "execution_count": 10,
   "metadata": {
    "executionInfo": {
     "elapsed": 6,
     "status": "ok",
     "timestamp": 1628418621836,
     "user": {
      "displayName": "احمد الغامدي",
      "photoUrl": "",
      "userId": "15414614545289853046"
     },
     "user_tz": -180
    },
    "id": "F6fTwQXTR8Ef"
   },
   "outputs": [],
   "source": [
    "def evens_num(): \n",
    "    for value in range(11):\n",
    "        if(value%2==0):\n",
    "            yield value\n",
    "        #value += 2"
   ]
  },
  {
   "cell_type": "code",
   "execution_count": 11,
   "metadata": {
    "executionInfo": {
     "elapsed": 463,
     "status": "ok",
     "timestamp": 1628418932506,
     "user": {
      "displayName": "احمد الغامدي",
      "photoUrl": "",
      "userId": "15414614545289853046"
     },
     "user_tz": -180
    },
    "id": "Bd37ZdblR8Eg"
   },
   "outputs": [],
   "source": [
    "e = evens_num()"
   ]
  },
  {
   "cell_type": "code",
   "execution_count": 12,
   "metadata": {
    "colab": {
     "base_uri": "https://localhost:8080/"
    },
    "executionInfo": {
     "elapsed": 4,
     "status": "ok",
     "timestamp": 1628418946435,
     "user": {
      "displayName": "احمد الغامدي",
      "photoUrl": "",
      "userId": "15414614545289853046"
     },
     "user_tz": -180
    },
    "id": "K69eqdo4R8Eh",
    "outputId": "81666532-43bd-4315-f7d0-699091894f04"
   },
   "outputs": [
    {
     "data": {
      "text/plain": [
       "0"
      ]
     },
     "execution_count": 12,
     "metadata": {},
     "output_type": "execute_result"
    }
   ],
   "source": [
    "next(e)"
   ]
  },
  {
   "cell_type": "code",
   "execution_count": 14,
   "metadata": {
    "id": "uzoFeNbhR8Ej",
    "outputId": "a6c0847c-5b4f-4664-f23c-079759c592f6"
   },
   "outputs": [
    {
     "name": "stdout",
     "output_type": "stream",
     "text": [
      "0\n",
      "2\n",
      "4\n",
      "6\n",
      "8\n",
      "10\n"
     ]
    }
   ],
   "source": [
    "for i in evens_num():\n",
    "    print(i)"
   ]
  },
  {
   "cell_type": "markdown",
   "metadata": {
    "id": "GqlUIiAUR8E6"
   },
   "source": [
    "## List comprehension \n",
    "## Generators expressions"
   ]
  },
  {
   "cell_type": "code",
   "execution_count": 15,
   "metadata": {
    "colab": {
     "base_uri": "https://localhost:8080/"
    },
    "executionInfo": {
     "elapsed": 812,
     "status": "ok",
     "timestamp": 1628422362787,
     "user": {
      "displayName": "احمد الغامدي",
      "photoUrl": "",
      "userId": "15414614545289853046"
     },
     "user_tz": -180
    },
    "id": "bPtFh9YDR8E_",
    "outputId": "15cb03d4-004b-40e1-cce4-3ba88b50a638"
   },
   "outputs": [
    {
     "data": {
      "text/plain": [
       "[0, 1, 2, 3, 4, 5, 6, 7, 8, 9, 10]"
      ]
     },
     "execution_count": 15,
     "metadata": {},
     "output_type": "execute_result"
    }
   ],
   "source": [
    "## List comprehension \n",
    "[x for x in range(11)]"
   ]
  },
  {
   "cell_type": "code",
   "execution_count": 16,
   "metadata": {
    "executionInfo": {
     "elapsed": 443,
     "status": "ok",
     "timestamp": 1628422368002,
     "user": {
      "displayName": "احمد الغامدي",
      "photoUrl": "",
      "userId": "15414614545289853046"
     },
     "user_tz": -180
    },
    "id": "t2TfUt1fR8FB"
   },
   "outputs": [],
   "source": [
    "## Generators expressions\n",
    "g = (x*2 for x in range(11))"
   ]
  },
  {
   "cell_type": "code",
   "execution_count": 17,
   "metadata": {
    "id": "_8b1MYiSR8FC",
    "outputId": "d70c6c41-6ffb-4c46-9fd6-d1c7a51662b9"
   },
   "outputs": [
    {
     "data": {
      "text/plain": [
       "0"
      ]
     },
     "execution_count": 17,
     "metadata": {},
     "output_type": "execute_result"
    }
   ],
   "source": [
    "next(g)"
   ]
  }
 ],
 "metadata": {
  "colab": {
   "name": "16 Generators.ipynb",
   "provenance": []
  },
  "kernelspec": {
   "display_name": "Python 3 (ipykernel)",
   "language": "python",
   "name": "python3"
  },
  "language_info": {
   "codemirror_mode": {
    "name": "ipython",
    "version": 3
   },
   "file_extension": ".py",
   "mimetype": "text/x-python",
   "name": "python",
   "nbconvert_exporter": "python",
   "pygments_lexer": "ipython3",
   "version": "3.11.4"
  }
 },
 "nbformat": 4,
 "nbformat_minor": 1
}
